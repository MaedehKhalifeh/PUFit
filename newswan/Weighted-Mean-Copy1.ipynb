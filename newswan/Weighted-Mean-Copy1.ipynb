{
 "cells": [
  {
   "cell_type": "code",
   "execution_count": 41,
   "id": "1dd94091",
   "metadata": {
    "scrolled": true
   },
   "outputs": [
    {
     "data": {
      "text/html": [
       "<div>\n",
       "<style scoped>\n",
       "    .dataframe tbody tr th:only-of-type {\n",
       "        vertical-align: middle;\n",
       "    }\n",
       "\n",
       "    .dataframe tbody tr th {\n",
       "        vertical-align: top;\n",
       "    }\n",
       "\n",
       "    .dataframe thead th {\n",
       "        text-align: right;\n",
       "    }\n",
       "</style>\n",
       "<table border=\"1\" class=\"dataframe\">\n",
       "  <thead>\n",
       "    <tr style=\"text-align: right;\">\n",
       "      <th></th>\n",
       "      <th>Unnamed: 0</th>\n",
       "      <th>Lumi bin 1= (0.006 , 9.989)</th>\n",
       "      <th>Lumi bin 2= (9.989 , 15.645)</th>\n",
       "      <th>Lumi bin 3= (15.645 , 17.403)</th>\n",
       "      <th>Lumi bin 4= (17.403 , 21.852)</th>\n",
       "      <th>Lumi bin 5= (21.852 , 25.701)</th>\n",
       "      <th>Lumi bin 6= (25.701 , 40.425)</th>\n",
       "      <th>Lumi bin 1= (0.006 , 9.989) .1</th>\n",
       "      <th>Lumi bin 2= (9.989 , 15.645) .1</th>\n",
       "      <th>Lumi bin 3= (15.645 , 17.403) .1</th>\n",
       "      <th>Lumi bin 4= (17.403 , 21.852) .1</th>\n",
       "      <th>Lumi bin 5= (21.852 , 25.701) .1</th>\n",
       "      <th>Lumi bin 6= (25.701 , 40.425) .1</th>\n",
       "    </tr>\n",
       "  </thead>\n",
       "  <tbody>\n",
       "    <tr>\n",
       "      <th>0</th>\n",
       "      <td>nVertices</td>\n",
       "      <td>7.281236</td>\n",
       "      <td>4.932103</td>\n",
       "      <td>3.214232</td>\n",
       "      <td>2.149977</td>\n",
       "      <td>0.894007</td>\n",
       "      <td>0.784973</td>\n",
       "      <td>99.0</td>\n",
       "      <td>99.0</td>\n",
       "      <td>82.0</td>\n",
       "      <td>81.0</td>\n",
       "      <td>76.0</td>\n",
       "      <td>77.0</td>\n",
       "    </tr>\n",
       "    <tr>\n",
       "      <th>1</th>\n",
       "      <td>nGoodVertices</td>\n",
       "      <td>6.551879</td>\n",
       "      <td>4.886898</td>\n",
       "      <td>3.284721</td>\n",
       "      <td>2.028575</td>\n",
       "      <td>0.864354</td>\n",
       "      <td>0.709093</td>\n",
       "      <td>99.0</td>\n",
       "      <td>90.0</td>\n",
       "      <td>74.0</td>\n",
       "      <td>73.0</td>\n",
       "      <td>69.0</td>\n",
       "      <td>70.0</td>\n",
       "    </tr>\n",
       "    <tr>\n",
       "      <th>2</th>\n",
       "      <td>nEles</td>\n",
       "      <td>3.796307</td>\n",
       "      <td>0.551806</td>\n",
       "      <td>0.020770</td>\n",
       "      <td>0.096276</td>\n",
       "      <td>0.227677</td>\n",
       "      <td>0.466275</td>\n",
       "      <td>99.0</td>\n",
       "      <td>99.0</td>\n",
       "      <td>84.0</td>\n",
       "      <td>79.0</td>\n",
       "      <td>77.0</td>\n",
       "      <td>73.0</td>\n",
       "    </tr>\n",
       "    <tr>\n",
       "      <th>3</th>\n",
       "      <td>nMus</td>\n",
       "      <td>11.301400</td>\n",
       "      <td>5.321659</td>\n",
       "      <td>5.011651</td>\n",
       "      <td>2.551939</td>\n",
       "      <td>6.955850</td>\n",
       "      <td>9.365867</td>\n",
       "      <td>99.0</td>\n",
       "      <td>99.0</td>\n",
       "      <td>80.0</td>\n",
       "      <td>99.0</td>\n",
       "      <td>99.0</td>\n",
       "      <td>99.0</td>\n",
       "    </tr>\n",
       "    <tr>\n",
       "      <th>4</th>\n",
       "      <td>nChargedHadrons</td>\n",
       "      <td>3.616436</td>\n",
       "      <td>1.414988</td>\n",
       "      <td>1.110289</td>\n",
       "      <td>0.907204</td>\n",
       "      <td>0.793324</td>\n",
       "      <td>0.812430</td>\n",
       "      <td>99.0</td>\n",
       "      <td>94.0</td>\n",
       "      <td>78.0</td>\n",
       "      <td>74.0</td>\n",
       "      <td>70.0</td>\n",
       "      <td>70.0</td>\n",
       "    </tr>\n",
       "    <tr>\n",
       "      <th>5</th>\n",
       "      <td>nLostTracks</td>\n",
       "      <td>6.554829</td>\n",
       "      <td>4.800710</td>\n",
       "      <td>2.669603</td>\n",
       "      <td>1.121655</td>\n",
       "      <td>0.732388</td>\n",
       "      <td>0.932764</td>\n",
       "      <td>99.0</td>\n",
       "      <td>99.0</td>\n",
       "      <td>99.0</td>\n",
       "      <td>99.0</td>\n",
       "      <td>94.0</td>\n",
       "      <td>92.0</td>\n",
       "    </tr>\n",
       "    <tr>\n",
       "      <th>6</th>\n",
       "      <td>nPhotons</td>\n",
       "      <td>5.586154</td>\n",
       "      <td>1.518242</td>\n",
       "      <td>1.374974</td>\n",
       "      <td>1.162529</td>\n",
       "      <td>1.047478</td>\n",
       "      <td>1.181748</td>\n",
       "      <td>99.0</td>\n",
       "      <td>93.0</td>\n",
       "      <td>71.0</td>\n",
       "      <td>72.0</td>\n",
       "      <td>70.0</td>\n",
       "      <td>68.0</td>\n",
       "    </tr>\n",
       "    <tr>\n",
       "      <th>7</th>\n",
       "      <td>nNeutralHadrons</td>\n",
       "      <td>3.170307</td>\n",
       "      <td>3.562945</td>\n",
       "      <td>6.776515</td>\n",
       "      <td>2.413255</td>\n",
       "      <td>1.863101</td>\n",
       "      <td>0.999809</td>\n",
       "      <td>99.0</td>\n",
       "      <td>99.0</td>\n",
       "      <td>99.0</td>\n",
       "      <td>99.0</td>\n",
       "      <td>99.0</td>\n",
       "      <td>98.0</td>\n",
       "    </tr>\n",
       "    <tr>\n",
       "      <th>8</th>\n",
       "      <td>fixedGridRhoAll</td>\n",
       "      <td>6.411424</td>\n",
       "      <td>2.069694</td>\n",
       "      <td>2.148370</td>\n",
       "      <td>1.471593</td>\n",
       "      <td>2.130539</td>\n",
       "      <td>1.809754</td>\n",
       "      <td>99.0</td>\n",
       "      <td>99.0</td>\n",
       "      <td>85.0</td>\n",
       "      <td>82.0</td>\n",
       "      <td>77.0</td>\n",
       "      <td>76.0</td>\n",
       "    </tr>\n",
       "    <tr>\n",
       "      <th>9</th>\n",
       "      <td>fixedGridRhoFastjetAll</td>\n",
       "      <td>7.070984</td>\n",
       "      <td>2.159300</td>\n",
       "      <td>2.416498</td>\n",
       "      <td>1.650898</td>\n",
       "      <td>2.612677</td>\n",
       "      <td>2.095920</td>\n",
       "      <td>99.0</td>\n",
       "      <td>99.0</td>\n",
       "      <td>84.0</td>\n",
       "      <td>83.0</td>\n",
       "      <td>78.0</td>\n",
       "      <td>77.0</td>\n",
       "    </tr>\n",
       "    <tr>\n",
       "      <th>10</th>\n",
       "      <td>fixedGridRhoFastjetAllCalo</td>\n",
       "      <td>8.037569</td>\n",
       "      <td>3.514405</td>\n",
       "      <td>4.430096</td>\n",
       "      <td>2.154977</td>\n",
       "      <td>3.191513</td>\n",
       "      <td>3.199270</td>\n",
       "      <td>99.0</td>\n",
       "      <td>99.0</td>\n",
       "      <td>77.0</td>\n",
       "      <td>80.0</td>\n",
       "      <td>76.0</td>\n",
       "      <td>75.0</td>\n",
       "    </tr>\n",
       "    <tr>\n",
       "      <th>11</th>\n",
       "      <td>fixedGridRhoFastjetCentral</td>\n",
       "      <td>7.453510</td>\n",
       "      <td>3.439508</td>\n",
       "      <td>1.927813</td>\n",
       "      <td>1.009147</td>\n",
       "      <td>1.628680</td>\n",
       "      <td>1.531488</td>\n",
       "      <td>99.0</td>\n",
       "      <td>99.0</td>\n",
       "      <td>92.0</td>\n",
       "      <td>91.0</td>\n",
       "      <td>86.0</td>\n",
       "      <td>85.0</td>\n",
       "    </tr>\n",
       "    <tr>\n",
       "      <th>12</th>\n",
       "      <td>fixedGridRhoFastjetCentralCalo</td>\n",
       "      <td>9.831945</td>\n",
       "      <td>4.938498</td>\n",
       "      <td>4.695548</td>\n",
       "      <td>1.134353</td>\n",
       "      <td>2.356433</td>\n",
       "      <td>2.761475</td>\n",
       "      <td>99.0</td>\n",
       "      <td>99.0</td>\n",
       "      <td>91.0</td>\n",
       "      <td>97.0</td>\n",
       "      <td>94.0</td>\n",
       "      <td>93.0</td>\n",
       "    </tr>\n",
       "    <tr>\n",
       "      <th>13</th>\n",
       "      <td>fixedGridRhoFastjetCentralChargedPileUp</td>\n",
       "      <td>8.207638</td>\n",
       "      <td>2.704219</td>\n",
       "      <td>1.556313</td>\n",
       "      <td>1.226080</td>\n",
       "      <td>1.267197</td>\n",
       "      <td>0.914897</td>\n",
       "      <td>99.0</td>\n",
       "      <td>99.0</td>\n",
       "      <td>82.0</td>\n",
       "      <td>79.0</td>\n",
       "      <td>75.0</td>\n",
       "      <td>74.0</td>\n",
       "    </tr>\n",
       "    <tr>\n",
       "      <th>14</th>\n",
       "      <td>fixedGridRhoFastjetCentralNeutral</td>\n",
       "      <td>17.554783</td>\n",
       "      <td>20.142383</td>\n",
       "      <td>17.320064</td>\n",
       "      <td>20.410328</td>\n",
       "      <td>23.225626</td>\n",
       "      <td>23.427940</td>\n",
       "      <td>99.0</td>\n",
       "      <td>99.0</td>\n",
       "      <td>99.0</td>\n",
       "      <td>99.0</td>\n",
       "      <td>99.0</td>\n",
       "      <td>99.0</td>\n",
       "    </tr>\n",
       "  </tbody>\n",
       "</table>\n",
       "</div>"
      ],
      "text/plain": [
       "                                 Unnamed: 0  Lumi bin 1= (0.006 , 9.989)   \\\n",
       "0                                 nVertices                      7.281236   \n",
       "1                             nGoodVertices                      6.551879   \n",
       "2                                     nEles                      3.796307   \n",
       "3                                      nMus                     11.301400   \n",
       "4                           nChargedHadrons                      3.616436   \n",
       "5                               nLostTracks                      6.554829   \n",
       "6                                  nPhotons                      5.586154   \n",
       "7                           nNeutralHadrons                      3.170307   \n",
       "8                           fixedGridRhoAll                      6.411424   \n",
       "9                    fixedGridRhoFastjetAll                      7.070984   \n",
       "10               fixedGridRhoFastjetAllCalo                      8.037569   \n",
       "11               fixedGridRhoFastjetCentral                      7.453510   \n",
       "12           fixedGridRhoFastjetCentralCalo                      9.831945   \n",
       "13  fixedGridRhoFastjetCentralChargedPileUp                      8.207638   \n",
       "14        fixedGridRhoFastjetCentralNeutral                     17.554783   \n",
       "\n",
       "    Lumi bin 2= (9.989 , 15.645)   Lumi bin 3= (15.645 , 17.403)   \\\n",
       "0                        4.932103                        3.214232   \n",
       "1                        4.886898                        3.284721   \n",
       "2                        0.551806                        0.020770   \n",
       "3                        5.321659                        5.011651   \n",
       "4                        1.414988                        1.110289   \n",
       "5                        4.800710                        2.669603   \n",
       "6                        1.518242                        1.374974   \n",
       "7                        3.562945                        6.776515   \n",
       "8                        2.069694                        2.148370   \n",
       "9                        2.159300                        2.416498   \n",
       "10                       3.514405                        4.430096   \n",
       "11                       3.439508                        1.927813   \n",
       "12                       4.938498                        4.695548   \n",
       "13                       2.704219                        1.556313   \n",
       "14                      20.142383                       17.320064   \n",
       "\n",
       "    Lumi bin 4= (17.403 , 21.852)   Lumi bin 5= (21.852 , 25.701)   \\\n",
       "0                         2.149977                        0.894007   \n",
       "1                         2.028575                        0.864354   \n",
       "2                         0.096276                        0.227677   \n",
       "3                         2.551939                        6.955850   \n",
       "4                         0.907204                        0.793324   \n",
       "5                         1.121655                        0.732388   \n",
       "6                         1.162529                        1.047478   \n",
       "7                         2.413255                        1.863101   \n",
       "8                         1.471593                        2.130539   \n",
       "9                         1.650898                        2.612677   \n",
       "10                        2.154977                        3.191513   \n",
       "11                        1.009147                        1.628680   \n",
       "12                        1.134353                        2.356433   \n",
       "13                        1.226080                        1.267197   \n",
       "14                       20.410328                       23.225626   \n",
       "\n",
       "    Lumi bin 6= (25.701 , 40.425)   Lumi bin 1= (0.006 , 9.989) .1  \\\n",
       "0                         0.784973                            99.0   \n",
       "1                         0.709093                            99.0   \n",
       "2                         0.466275                            99.0   \n",
       "3                         9.365867                            99.0   \n",
       "4                         0.812430                            99.0   \n",
       "5                         0.932764                            99.0   \n",
       "6                         1.181748                            99.0   \n",
       "7                         0.999809                            99.0   \n",
       "8                         1.809754                            99.0   \n",
       "9                         2.095920                            99.0   \n",
       "10                        3.199270                            99.0   \n",
       "11                        1.531488                            99.0   \n",
       "12                        2.761475                            99.0   \n",
       "13                        0.914897                            99.0   \n",
       "14                       23.427940                            99.0   \n",
       "\n",
       "    Lumi bin 2= (9.989 , 15.645) .1  Lumi bin 3= (15.645 , 17.403) .1  \\\n",
       "0                              99.0                              82.0   \n",
       "1                              90.0                              74.0   \n",
       "2                              99.0                              84.0   \n",
       "3                              99.0                              80.0   \n",
       "4                              94.0                              78.0   \n",
       "5                              99.0                              99.0   \n",
       "6                              93.0                              71.0   \n",
       "7                              99.0                              99.0   \n",
       "8                              99.0                              85.0   \n",
       "9                              99.0                              84.0   \n",
       "10                             99.0                              77.0   \n",
       "11                             99.0                              92.0   \n",
       "12                             99.0                              91.0   \n",
       "13                             99.0                              82.0   \n",
       "14                             99.0                              99.0   \n",
       "\n",
       "    Lumi bin 4= (17.403 , 21.852) .1  Lumi bin 5= (21.852 , 25.701) .1  \\\n",
       "0                               81.0                              76.0   \n",
       "1                               73.0                              69.0   \n",
       "2                               79.0                              77.0   \n",
       "3                               99.0                              99.0   \n",
       "4                               74.0                              70.0   \n",
       "5                               99.0                              94.0   \n",
       "6                               72.0                              70.0   \n",
       "7                               99.0                              99.0   \n",
       "8                               82.0                              77.0   \n",
       "9                               83.0                              78.0   \n",
       "10                              80.0                              76.0   \n",
       "11                              91.0                              86.0   \n",
       "12                              97.0                              94.0   \n",
       "13                              79.0                              75.0   \n",
       "14                              99.0                              99.0   \n",
       "\n",
       "    Lumi bin 6= (25.701 , 40.425) .1  \n",
       "0                               77.0  \n",
       "1                               70.0  \n",
       "2                               73.0  \n",
       "3                               99.0  \n",
       "4                               70.0  \n",
       "5                               92.0  \n",
       "6                               68.0  \n",
       "7                               98.0  \n",
       "8                               76.0  \n",
       "9                               77.0  \n",
       "10                              75.0  \n",
       "11                              85.0  \n",
       "12                              93.0  \n",
       "13                              74.0  \n",
       "14                              99.0  "
      ]
     },
     "execution_count": 41,
     "metadata": {},
     "output_type": "execute_result"
    }
   ],
   "source": [
    "import pandas as pd\n",
    "from math import sqrt\n",
    "\n",
    "import matplotlib.pyplot as plt\n",
    "import plotly.graph_objects as go\n",
    "import plotly.express as px\n",
    "\n",
    "from pathlib import Path\n",
    "\n",
    "#read CSV file\n",
    "directory = '/eos/user/m/mkhalife/eos/newRes/CSV'\n",
    "csvFileName = 'combinedZeroBias22G.csv'\n",
    "eraName = 'AllG'\n",
    "df = pd.read_csv('{0}/{1}'.format(directory , csvFileName))\n",
    "df"
   ]
  },
  {
   "cell_type": "code",
   "execution_count": 42,
   "id": "9c320c8d",
   "metadata": {},
   "outputs": [],
   "source": [
    "#make an entire integer dataframe\n",
    "columnToRemove = 'Unnamed: 0'\n",
    "dfRemoved = df.drop(columns = columnToRemove)\n",
    "#dfRemoved"
   ]
  },
  {
   "cell_type": "code",
   "execution_count": 43,
   "id": "9c9725af",
   "metadata": {},
   "outputs": [],
   "source": [
    "#remove nEles = 2, nMus = 3, nLostTracks = 5, nNeutralHadrons = 7 and fixedGridRhoAll = 8.\n",
    "#for i in (2 , 3 , 5 , 7 , 8):\n",
    "#    indexToRemove = i\n",
    "#    df = df.drop(indexToRemove)\n",
    "#df"
   ]
  },
  {
   "cell_type": "code",
   "execution_count": 44,
   "id": "f63e852c",
   "metadata": {
    "scrolled": true
   },
   "outputs": [],
   "source": [
    "#select propriate rows which have\n",
    "#at least 3 lumi bins with fit quality less than 11\n",
    "#and at least 3 lumi bins with cross section less than 90\n",
    "\n",
    "#condition1 = (dfRemoved.iloc[: , 0:6] < 11).sum(axis=1) >= 3\n",
    "#condition2 = (dfRemoved.iloc[: , 7:13] < 90).sum(axis=1) >= 3\n",
    "\n",
    "#selRows = df[condition1 & condition2]\n",
    "#selRows"
   ]
  },
  {
   "cell_type": "code",
   "execution_count": 45,
   "id": "490d4f0e",
   "metadata": {},
   "outputs": [],
   "source": [
    "#calculate cross section divided by fit quality\n",
    "\n",
    "fit = []\n",
    "cross = []\n",
    "for columnIndex in range (1,7):\n",
    "    fitValue = df.iloc[:, columnIndex]\n",
    "    fit.append(fitValue)\n",
    "    \n",
    "    crossValue = df.iloc[:, columnIndex + 6]\n",
    "    cross.append(crossValue)\n",
    "\n",
    "    \n",
    "seriesName = [s.name for s in fit]\n",
    "crossFit = [a / b for a,b in zip(cross , fit)]\n",
    "\n",
    "\n",
    "for i, fitSeries in enumerate(fit):\n",
    "    crossFit[i].name = fitSeries.name.replace(\"fit\", \"crossFit\")\n",
    "\n",
    "for i, fitSeries in enumerate(fit):\n",
    "    cross[i].name = fitSeries.name.replace(\"fit\", \"cross\")"
   ]
  },
  {
   "cell_type": "code",
   "execution_count": 46,
   "id": "f38410f8",
   "metadata": {},
   "outputs": [],
   "source": [
    "#cross[4].values[6]\n",
    "#cross[0].name"
   ]
  },
  {
   "cell_type": "code",
   "execution_count": 47,
   "id": "91f3bbbe",
   "metadata": {},
   "outputs": [],
   "source": [
    "#type(cross)"
   ]
  },
  {
   "cell_type": "code",
   "execution_count": 48,
   "id": "b9974225",
   "metadata": {},
   "outputs": [],
   "source": [
    "#fit"
   ]
  },
  {
   "cell_type": "code",
   "execution_count": 49,
   "id": "07ee199d",
   "metadata": {},
   "outputs": [],
   "source": [
    "#crossFit"
   ]
  },
  {
   "cell_type": "code",
   "execution_count": 50,
   "id": "eb7eaac2",
   "metadata": {},
   "outputs": [],
   "source": [
    "#convert lists to dataframe\n",
    "dfF = pd.DataFrame(fit).T\n",
    "dfFInv = 1/dfF\n",
    "dfC = pd.DataFrame(cross).T\n",
    "dfCperF = pd.DataFrame(crossFit).T\n",
    "#dfF\n",
    "#dfFInv\n",
    "#dfC\n",
    "#dfCperF"
   ]
  },
  {
   "cell_type": "code",
   "execution_count": 51,
   "id": "e408f3a8",
   "metadata": {},
   "outputs": [],
   "source": [
    "#create dataframe\n",
    "dfFinal = pd.concat([dfFInv, dfCperF], axis=0)"
   ]
  },
  {
   "cell_type": "code",
   "execution_count": 52,
   "id": "c7633240",
   "metadata": {},
   "outputs": [],
   "source": [
    "#dfFinal"
   ]
  },
  {
   "cell_type": "code",
   "execution_count": 53,
   "id": "d4b66b9f",
   "metadata": {},
   "outputs": [
    {
     "data": {
      "text/plain": [
       "15"
      ]
     },
     "execution_count": 53,
     "metadata": {},
     "output_type": "execute_result"
    }
   ],
   "source": [
    "#calculate mean\n",
    "sumFitInv = dfFinal.iloc[0:len(df)].sum()\n",
    "dfFinal.loc['Sum Fit Inverse'] = sumFitInv\n",
    "sumCperF = dfFinal.iloc[len(df):len(df)*2].sum()\n",
    "\n",
    "dfFinal.loc['Sum Cross section per Fit quality'] = sumCperF\n",
    "dfFinal.loc['Cross section Weighted Mean'] = dfFinal.loc['Sum Cross section per Fit quality'] / dfFinal.loc['Sum Fit Inverse']\n",
    "len(df)"
   ]
  },
  {
   "cell_type": "code",
   "execution_count": 54,
   "id": "b8ed90ba",
   "metadata": {},
   "outputs": [],
   "source": [
    "#dfFinal"
   ]
  },
  {
   "cell_type": "code",
   "execution_count": 55,
   "id": "e9a81b3e",
   "metadata": {},
   "outputs": [
    {
     "name": "stderr",
     "output_type": "stream",
     "text": [
      "/tmp/ipykernel_985/4042084114.py:4: FutureWarning:\n",
      "\n",
      "The frame.append method is deprecated and will be removed from pandas in a future version. Use pandas.concat instead.\n",
      "\n"
     ]
    }
   ],
   "source": [
    "#cross section, fit inverse and weighted mean dataframe\n",
    "\n",
    "dfVar = pd.concat([dfC , dfFInv], axis=0)\n",
    "dfVar = dfVar.append(dfFinal.loc['Cross section Weighted Mean'] , ignore_index=True)\n",
    "#dfVar"
   ]
  },
  {
   "cell_type": "code",
   "execution_count": 56,
   "id": "34f9699a",
   "metadata": {},
   "outputs": [
    {
     "name": "stderr",
     "output_type": "stream",
     "text": [
      "/tmp/ipykernel_985/2811156606.py:15: FutureWarning:\n",
      "\n",
      "The frame.append method is deprecated and will be removed from pandas in a future version. Use pandas.concat instead.\n",
      "\n",
      "/tmp/ipykernel_985/2811156606.py:16: FutureWarning:\n",
      "\n",
      "The frame.append method is deprecated and will be removed from pandas in a future version. Use pandas.concat instead.\n",
      "\n"
     ]
    }
   ],
   "source": [
    "#calculate variance\n",
    "\n",
    "weightedSum = []\n",
    "for i in range(len(df)):\n",
    "    x = (dfVar.iloc[i + len(df)]) * ((dfVar.iloc[i] - dfVar.iloc[-1]) * (dfVar.iloc[i] - dfVar.iloc[-1]))\n",
    "    weightedSum.append(x)\n",
    "    \n",
    "s = pd.DataFrame(weightedSum)\n",
    "\n",
    "sumS = s.iloc[:].sum()\n",
    "sumS.name = 'Sum of wightes * (x_i - xbar)^2'\n",
    "\n",
    "sumF = dfFinal.loc['Sum Fit Inverse']\n",
    "\n",
    "s = s.append(sumS) # , ignore_index = True)\n",
    "s = s.append(sumF)\n",
    "#type(s.loc['Sum Fit Inverse'].iloc[0])\n",
    "index = s.columns\n",
    "#s"
   ]
  },
  {
   "cell_type": "code",
   "execution_count": 57,
   "id": "aa24c39f",
   "metadata": {},
   "outputs": [],
   "source": [
    "factor = (len(df)) /(len(df) - 1)\n",
    "\n",
    "variance = []\n",
    "for i in range (0 , 6):\n",
    "    ssLocal = sqrt(factor * ((s.loc['Sum of wightes * (x_i - xbar)^2'].iloc[i]) / (s.loc['Sum Fit Inverse'].iloc[i])))\n",
    "    variance.append(ssLocal)\n",
    "    \n",
    "#variance\n",
    "\n",
    "Variance = pd.DataFrame(variance).T\n",
    "Variance.shape\n",
    "Variance.rename(index={0: 'Variance'}, inplace=True)\n",
    "#VV = pd.concat()\n",
    "#pd.set_columns(Variance) = keys\n",
    "Variance.columns = index\n",
    "#Variance"
   ]
  },
  {
   "cell_type": "code",
   "execution_count": 58,
   "id": "6c82ef44",
   "metadata": {},
   "outputs": [],
   "source": [
    "CS_WM = pd.DataFrame (dfFinal.loc['Cross section Weighted Mean']).T\n",
    "whole = pd.concat([s , CS_WM , Variance])"
   ]
  },
  {
   "cell_type": "code",
   "execution_count": 59,
   "id": "68c65fb3",
   "metadata": {},
   "outputs": [
    {
     "data": {
      "text/html": [
       "<div>\n",
       "<style scoped>\n",
       "    .dataframe tbody tr th:only-of-type {\n",
       "        vertical-align: middle;\n",
       "    }\n",
       "\n",
       "    .dataframe tbody tr th {\n",
       "        vertical-align: top;\n",
       "    }\n",
       "\n",
       "    .dataframe thead th {\n",
       "        text-align: right;\n",
       "    }\n",
       "</style>\n",
       "<table border=\"1\" class=\"dataframe\">\n",
       "  <thead>\n",
       "    <tr style=\"text-align: right;\">\n",
       "      <th></th>\n",
       "      <th>Lumi bin 1= (0.006 , 9.989)</th>\n",
       "      <th>Lumi bin 2= (9.989 , 15.645)</th>\n",
       "      <th>Lumi bin 3= (15.645 , 17.403)</th>\n",
       "      <th>Lumi bin 4= (17.403 , 21.852)</th>\n",
       "      <th>Lumi bin 5= (21.852 , 25.701)</th>\n",
       "      <th>Lumi bin 6= (25.701 , 40.425)</th>\n",
       "    </tr>\n",
       "  </thead>\n",
       "  <tbody>\n",
       "    <tr>\n",
       "      <th>0</th>\n",
       "      <td>1.109418e-28</td>\n",
       "      <td>0.429916</td>\n",
       "      <td>1.079071</td>\n",
       "      <td>0.278292</td>\n",
       "      <td>8.477908</td>\n",
       "      <td>1.208710</td>\n",
       "    </tr>\n",
       "    <tr>\n",
       "      <th>1</th>\n",
       "      <td>1.232919e-28</td>\n",
       "      <td>11.645339</td>\n",
       "      <td>29.611694</td>\n",
       "      <td>37.945117</td>\n",
       "      <td>110.049941</td>\n",
       "      <td>89.671944</td>\n",
       "    </tr>\n",
       "    <tr>\n",
       "      <th>2</th>\n",
       "      <td>2.127840e-28</td>\n",
       "      <td>3.842632</td>\n",
       "      <td>0.912136</td>\n",
       "      <td>79.899060</td>\n",
       "      <td>13.498052</td>\n",
       "      <td>53.061644</td>\n",
       "    </tr>\n",
       "    <tr>\n",
       "      <th>3</th>\n",
       "      <td>7.147730e-29</td>\n",
       "      <td>0.398445</td>\n",
       "      <td>2.976628</td>\n",
       "      <td>116.284884</td>\n",
       "      <td>58.934390</td>\n",
       "      <td>47.202236</td>\n",
       "    </tr>\n",
       "    <tr>\n",
       "      <th>4</th>\n",
       "      <td>2.233673e-28</td>\n",
       "      <td>8.875578</td>\n",
       "      <td>30.953440</td>\n",
       "      <td>66.608498</td>\n",
       "      <td>96.575918</td>\n",
       "      <td>78.266129</td>\n",
       "    </tr>\n",
       "    <tr>\n",
       "      <th>5</th>\n",
       "      <td>1.232364e-28</td>\n",
       "      <td>0.441682</td>\n",
       "      <td>85.836044</td>\n",
       "      <td>264.566142</td>\n",
       "      <td>317.412644</td>\n",
       "      <td>210.907367</td>\n",
       "    </tr>\n",
       "    <tr>\n",
       "      <th>6</th>\n",
       "      <td>1.446064e-28</td>\n",
       "      <td>13.598964</td>\n",
       "      <td>120.322501</td>\n",
       "      <td>82.167040</td>\n",
       "      <td>73.143290</td>\n",
       "      <td>84.182110</td>\n",
       "    </tr>\n",
       "    <tr>\n",
       "      <th>7</th>\n",
       "      <td>2.547998e-28</td>\n",
       "      <td>0.595123</td>\n",
       "      <td>33.815046</td>\n",
       "      <td>122.967477</td>\n",
       "      <td>220.030321</td>\n",
       "      <td>401.114433</td>\n",
       "    </tr>\n",
       "    <tr>\n",
       "      <th>8</th>\n",
       "      <td>1.259928e-28</td>\n",
       "      <td>1.024494</td>\n",
       "      <td>0.602422</td>\n",
       "      <td>0.034858</td>\n",
       "      <td>1.442452</td>\n",
       "      <td>2.153298</td>\n",
       "    </tr>\n",
       "    <tr>\n",
       "      <th>9</th>\n",
       "      <td>1.142406e-28</td>\n",
       "      <td>0.981980</td>\n",
       "      <td>0.007840</td>\n",
       "      <td>0.911184</td>\n",
       "      <td>0.217054</td>\n",
       "      <td>0.452692</td>\n",
       "    </tr>\n",
       "    <tr>\n",
       "      <th>10</th>\n",
       "      <td>1.005022e-28</td>\n",
       "      <td>0.603342</td>\n",
       "      <td>10.630013</td>\n",
       "      <td>1.459573</td>\n",
       "      <td>2.374833</td>\n",
       "      <td>2.764716</td>\n",
       "    </tr>\n",
       "    <tr>\n",
       "      <th>11</th>\n",
       "      <td>1.083776e-28</td>\n",
       "      <td>0.616480</td>\n",
       "      <td>34.350428</td>\n",
       "      <td>84.356464</td>\n",
       "      <td>32.245877</td>\n",
       "      <td>32.232545</td>\n",
       "    </tr>\n",
       "    <tr>\n",
       "      <th>12</th>\n",
       "      <td>8.216010e-29</td>\n",
       "      <td>0.429359</td>\n",
       "      <td>10.849833</td>\n",
       "      <td>204.385979</td>\n",
       "      <td>98.653053</td>\n",
       "      <td>81.760182</td>\n",
       "    </tr>\n",
       "    <tr>\n",
       "      <th>13</th>\n",
       "      <td>9.841973e-29</td>\n",
       "      <td>0.784104</td>\n",
       "      <td>2.228590</td>\n",
       "      <td>6.273957</td>\n",
       "      <td>11.115417</td>\n",
       "      <td>17.262283</td>\n",
       "    </tr>\n",
       "    <tr>\n",
       "      <th>14</th>\n",
       "      <td>4.601558e-29</td>\n",
       "      <td>0.105270</td>\n",
       "      <td>13.230214</td>\n",
       "      <td>14.539300</td>\n",
       "      <td>17.650280</td>\n",
       "      <td>18.870198</td>\n",
       "    </tr>\n",
       "    <tr>\n",
       "      <th>Sum of wightes * (x_i - xbar)^2</th>\n",
       "      <td>1.940214e-27</td>\n",
       "      <td>44.372709</td>\n",
       "      <td>377.405900</td>\n",
       "      <td>1082.677826</td>\n",
       "      <td>1061.821430</td>\n",
       "      <td>1121.110488</td>\n",
       "    </tr>\n",
       "    <tr>\n",
       "      <th>Sum Fit Inverse</th>\n",
       "      <td>2.401868e+00</td>\n",
       "      <td>6.405357</td>\n",
       "      <td>53.649054</td>\n",
       "      <td>19.491536</td>\n",
       "      <td>13.964776</td>\n",
       "      <td>12.577999</td>\n",
       "    </tr>\n",
       "    <tr>\n",
       "      <th>Cross section Weighted Mean</th>\n",
       "      <td>9.900000e+01</td>\n",
       "      <td>97.543844</td>\n",
       "      <td>83.862360</td>\n",
       "      <td>81.773512</td>\n",
       "      <td>78.753055</td>\n",
       "      <td>77.974067</td>\n",
       "    </tr>\n",
       "    <tr>\n",
       "      <th>Variance</th>\n",
       "      <td>2.941926e-14</td>\n",
       "      <td>2.724381</td>\n",
       "      <td>2.745396</td>\n",
       "      <td>7.714507</td>\n",
       "      <td>9.025897</td>\n",
       "      <td>9.772373</td>\n",
       "    </tr>\n",
       "  </tbody>\n",
       "</table>\n",
       "</div>"
      ],
      "text/plain": [
       "                                 Lumi bin 1= (0.006 , 9.989)   \\\n",
       "0                                                1.109418e-28   \n",
       "1                                                1.232919e-28   \n",
       "2                                                2.127840e-28   \n",
       "3                                                7.147730e-29   \n",
       "4                                                2.233673e-28   \n",
       "5                                                1.232364e-28   \n",
       "6                                                1.446064e-28   \n",
       "7                                                2.547998e-28   \n",
       "8                                                1.259928e-28   \n",
       "9                                                1.142406e-28   \n",
       "10                                               1.005022e-28   \n",
       "11                                               1.083776e-28   \n",
       "12                                               8.216010e-29   \n",
       "13                                               9.841973e-29   \n",
       "14                                               4.601558e-29   \n",
       "Sum of wightes * (x_i - xbar)^2                  1.940214e-27   \n",
       "Sum Fit Inverse                                  2.401868e+00   \n",
       "Cross section Weighted Mean                      9.900000e+01   \n",
       "Variance                                         2.941926e-14   \n",
       "\n",
       "                                 Lumi bin 2= (9.989 , 15.645)   \\\n",
       "0                                                     0.429916   \n",
       "1                                                    11.645339   \n",
       "2                                                     3.842632   \n",
       "3                                                     0.398445   \n",
       "4                                                     8.875578   \n",
       "5                                                     0.441682   \n",
       "6                                                    13.598964   \n",
       "7                                                     0.595123   \n",
       "8                                                     1.024494   \n",
       "9                                                     0.981980   \n",
       "10                                                    0.603342   \n",
       "11                                                    0.616480   \n",
       "12                                                    0.429359   \n",
       "13                                                    0.784104   \n",
       "14                                                    0.105270   \n",
       "Sum of wightes * (x_i - xbar)^2                      44.372709   \n",
       "Sum Fit Inverse                                       6.405357   \n",
       "Cross section Weighted Mean                          97.543844   \n",
       "Variance                                              2.724381   \n",
       "\n",
       "                                 Lumi bin 3= (15.645 , 17.403)   \\\n",
       "0                                                      1.079071   \n",
       "1                                                     29.611694   \n",
       "2                                                      0.912136   \n",
       "3                                                      2.976628   \n",
       "4                                                     30.953440   \n",
       "5                                                     85.836044   \n",
       "6                                                    120.322501   \n",
       "7                                                     33.815046   \n",
       "8                                                      0.602422   \n",
       "9                                                      0.007840   \n",
       "10                                                    10.630013   \n",
       "11                                                    34.350428   \n",
       "12                                                    10.849833   \n",
       "13                                                     2.228590   \n",
       "14                                                    13.230214   \n",
       "Sum of wightes * (x_i - xbar)^2                      377.405900   \n",
       "Sum Fit Inverse                                       53.649054   \n",
       "Cross section Weighted Mean                           83.862360   \n",
       "Variance                                               2.745396   \n",
       "\n",
       "                                 Lumi bin 4= (17.403 , 21.852)   \\\n",
       "0                                                      0.278292   \n",
       "1                                                     37.945117   \n",
       "2                                                     79.899060   \n",
       "3                                                    116.284884   \n",
       "4                                                     66.608498   \n",
       "5                                                    264.566142   \n",
       "6                                                     82.167040   \n",
       "7                                                    122.967477   \n",
       "8                                                      0.034858   \n",
       "9                                                      0.911184   \n",
       "10                                                     1.459573   \n",
       "11                                                    84.356464   \n",
       "12                                                   204.385979   \n",
       "13                                                     6.273957   \n",
       "14                                                    14.539300   \n",
       "Sum of wightes * (x_i - xbar)^2                     1082.677826   \n",
       "Sum Fit Inverse                                       19.491536   \n",
       "Cross section Weighted Mean                           81.773512   \n",
       "Variance                                               7.714507   \n",
       "\n",
       "                                 Lumi bin 5= (21.852 , 25.701)   \\\n",
       "0                                                      8.477908   \n",
       "1                                                    110.049941   \n",
       "2                                                     13.498052   \n",
       "3                                                     58.934390   \n",
       "4                                                     96.575918   \n",
       "5                                                    317.412644   \n",
       "6                                                     73.143290   \n",
       "7                                                    220.030321   \n",
       "8                                                      1.442452   \n",
       "9                                                      0.217054   \n",
       "10                                                     2.374833   \n",
       "11                                                    32.245877   \n",
       "12                                                    98.653053   \n",
       "13                                                    11.115417   \n",
       "14                                                    17.650280   \n",
       "Sum of wightes * (x_i - xbar)^2                     1061.821430   \n",
       "Sum Fit Inverse                                       13.964776   \n",
       "Cross section Weighted Mean                           78.753055   \n",
       "Variance                                               9.025897   \n",
       "\n",
       "                                 Lumi bin 6= (25.701 , 40.425)   \n",
       "0                                                      1.208710  \n",
       "1                                                     89.671944  \n",
       "2                                                     53.061644  \n",
       "3                                                     47.202236  \n",
       "4                                                     78.266129  \n",
       "5                                                    210.907367  \n",
       "6                                                     84.182110  \n",
       "7                                                    401.114433  \n",
       "8                                                      2.153298  \n",
       "9                                                      0.452692  \n",
       "10                                                     2.764716  \n",
       "11                                                    32.232545  \n",
       "12                                                    81.760182  \n",
       "13                                                    17.262283  \n",
       "14                                                    18.870198  \n",
       "Sum of wightes * (x_i - xbar)^2                     1121.110488  \n",
       "Sum Fit Inverse                                       12.577999  \n",
       "Cross section Weighted Mean                           77.974067  \n",
       "Variance                                               9.772373  "
      ]
     },
     "execution_count": 59,
     "metadata": {},
     "output_type": "execute_result"
    }
   ],
   "source": [
    "whole"
   ]
  },
  {
   "cell_type": "raw",
   "id": "b36478fe",
   "metadata": {},
   "source": [
    "#plot\n",
    "\n",
    "import matplotlib.pyplot as plt\n",
    "import plotly.graph_objects as go\n",
    "import plotly.express as px\n",
    "\n",
    "cmscs = 69.2\n",
    "y = [cmscs]* len(index)\n",
    "y_upper = [cmscs + cmscs*4.6/100]*len(index)\n",
    "y_lower = [cmscs - cmscs*4.6/100]*len(index)\n",
    "\n",
    "x = index\n",
    "y = whole.iloc[-2]\n",
    "\n",
    "fig, ax = plt.subplots()\n",
    "ax.plot(x, y)\n",
    "plt.show()\n"
   ]
  },
  {
   "cell_type": "raw",
   "id": "e663d415",
   "metadata": {},
   "source": [
    "import plotly.graph_objects as go\n",
    "import plotly.express as px\n",
    "\n",
    "\n",
    "# Create figure\n",
    "fig = go.Figure()\n",
    "\n",
    "# Add trace for the line plot\n",
    "fig.add_trace(go.Scatter(x=index, y=whole.iloc[-2] , mode='lines', name='Cross section'))\n",
    "\n",
    "# Add error bars\n",
    "fig.add_trace(go.Scatter(\n",
    "    x=index,\n",
    "    y=[v + e for v, e in zip(variance , whole.iloc[-2])] + [v - e for v, e in zip(whole.iloc[-2] , variance)],\n",
    "    mode='lines',\n",
    "    line=dict(color='rgba(255,0,0,1)'),\n",
    "    name='Error Bars'\n",
    "))\n",
    "\n",
    "# Update layout with custom properties\n",
    "custom_template = {\n",
    "    \"layout\": go.Layout(\n",
    "        font={\n",
    "            \"family\": \"Nunito\",\n",
    "            \"size\": 16,\n",
    "            \"color\": \"black\",\n",
    "        },\n",
    "        title={\n",
    "            \"text\": \"Cross section\",\n",
    "            \"font\": {\n",
    "                \"family\": \"Lato\",\n",
    "                \"size\": 18,\n",
    "                \"color\": \"#1f1f1f\",\n",
    "            },\n",
    "        },\n",
    "        autosize=False,\n",
    "        width=1000,\n",
    "        height=500,\n",
    "        plot_bgcolor=\"#ffffff\",\n",
    "        paper_bgcolor=\"#ffffff\",\n",
    "        colorway=px.colors.qualitative.G10,\n",
    "        legend=dict(font=dict(family=\"Nunito\", size=12, color=\"black\")),\n",
    "    )\n",
    "}\n",
    "\n",
    "fig.update_layout(custom_template['layout'])\n",
    "\n",
    "# Show the plot\n",
    "fig.show()"
   ]
  },
  {
   "cell_type": "raw",
   "id": "6b9df123",
   "metadata": {},
   "source": [
    "#len(X) = len(index)\n",
    "cmscs = 69.2\n",
    "Y = [cmscs]* len(index)\n",
    "y_upper = [cmscs + cmscs*4.6/100]*len(index)\n",
    "y_lower = [cmscs - cmscs*4.6/100]*len(index)\n",
    "\n",
    "fig = go.Figure([\n",
    "    go.Scatter(\n",
    "        x=index,\n",
    "        y=whole.iloc[-2],\n",
    "        error_y=dict(\n",
    "            type='data',\n",
    "            array=whole.iloc[-1],\n",
    "            visible=True)\n",
    "    ),\n",
    "     go.Scatter(\n",
    "        x=index, # x, then x reversed\n",
    "        y=y_upper+y_lower, # upper, then lower reversed\n",
    "        fill='toself',\n",
    "        fillcolor='rgba(0,100,80,0.5)',\n",
    "        name = r'$69.2 \\pm 4.6\\%$',\n",
    "        line=dict(color='rgba(255,255,255,0)'),\n",
    "        hoverinfo=\"skip\"\n",
    "        )]\n",
    "    )\n",
    "\n",
    "custom_template = {\n",
    "    \"layout\": go.Layout(\n",
    "        font={\n",
    "            \"family\": \"Nunito\",\n",
    "            \"size\": 16,\n",
    "            \"color\": \"black\",\n",
    "        },\n",
    "        title={\n",
    "            \"text\": \"Cross section\",\n",
    "            \"font\": {\n",
    "                \"family\": \"Lato\",\n",
    "                \"size\": 18,\n",
    "                \"color\": \"#1f1f1f\",\n",
    "            },\n",
    "        },\n",
    "        autosize=False,\n",
    "        width=1000,\n",
    "        height=500,\n",
    "        plot_bgcolor=\"#ffffff\",\n",
    "        paper_bgcolor=\"#ffffff\",\n",
    "        colorway=px.colors.qualitative.G10,\n",
    "        legend=dict(font=dict(family=\"Nunito\", size=12, color=\"black\")),\n",
    "    )\n",
    "}\n",
    "fig.add_scatter(x = index, y = Y )\n",
    "fig.add_scatter(x = index , y = y_upper+y_lower)\n",
    "\n",
    "fig.update_layout(custom_template['layout'])\n",
    "fig.show()"
   ]
  },
  {
   "cell_type": "code",
   "execution_count": 60,
   "id": "82e9e0c7",
   "metadata": {},
   "outputs": [
    {
     "data": {
      "application/vnd.plotly.v1+json": {
       "config": {
        "plotlyServerURL": "https://plot.ly"
       },
       "data": [
        {
         "error_y": {
          "array": [
           2.94192642233364e-14,
           2.7243813396436463,
           2.7453955143504887,
           7.714507366129893,
           9.025896926565608,
           9.772373026502326
          ],
          "type": "data",
          "visible": true
         },
         "line": {
          "color": "red"
         },
         "name": "Cross Section",
         "type": "scatter",
         "x": [
          "Lumi bin 1= (0.006 , 9.989) ",
          "Lumi bin 2= (9.989 , 15.645) ",
          "Lumi bin 3= (15.645 , 17.403) ",
          "Lumi bin 4= (17.403 , 21.852) ",
          "Lumi bin 5= (21.852 , 25.701) ",
          "Lumi bin 6= (25.701 , 40.425) "
         ],
         "y": [
          98.99999999999997,
          97.54384444092351,
          83.8623596617972,
          81.77351238651966,
          78.75305454803024,
          77.97406651999792
         ]
        },
        {
         "line": {
          "color": "rgb(0,100,80)"
         },
         "name": "CMS cross section",
         "type": "scatter",
         "x": [
          "Lumi bin 1= (0.006 , 9.989) ",
          "Lumi bin 2= (9.989 , 15.645) ",
          "Lumi bin 3= (15.645 , 17.403) ",
          "Lumi bin 4= (17.403 , 21.852) ",
          "Lumi bin 5= (21.852 , 25.701) ",
          "Lumi bin 6= (25.701 , 40.425) "
         ],
         "y": [
          69.2,
          69.2,
          69.2,
          69.2,
          69.2,
          69.2
         ]
        },
        {
         "fill": "tonexty",
         "line": {
          "color": "rgb(0,100,80)"
         },
         "name": "Error Band",
         "type": "scatter",
         "x": [
          "Lumi bin 1= (0.006 , 9.989) ",
          "Lumi bin 2= (9.989 , 15.645) ",
          "Lumi bin 3= (15.645 , 17.403) ",
          "Lumi bin 4= (17.403 , 21.852) ",
          "Lumi bin 5= (21.852 , 25.701) ",
          "Lumi bin 6= (25.701 , 40.425) "
         ],
         "y": [
          72.3832,
          72.3832,
          72.3832,
          72.3832,
          72.3832,
          72.3832
         ]
        },
        {
         "fill": "tonexty",
         "line": {
          "color": "rgb(0,100,80)"
         },
         "name": "Error Band",
         "type": "scatter",
         "x": [
          "Lumi bin 1= (0.006 , 9.989) ",
          "Lumi bin 2= (9.989 , 15.645) ",
          "Lumi bin 3= (15.645 , 17.403) ",
          "Lumi bin 4= (17.403 , 21.852) ",
          "Lumi bin 5= (21.852 , 25.701) ",
          "Lumi bin 6= (25.701 , 40.425) "
         ],
         "y": [
          66.0168,
          66.0168,
          66.0168,
          66.0168,
          66.0168,
          66.0168
         ]
        }
       ],
       "layout": {
        "autosize": false,
        "colorway": [
         "#3366CC",
         "#DC3912",
         "#FF9900",
         "#109618",
         "#990099",
         "#0099C6",
         "#DD4477",
         "#66AA00",
         "#B82E2E",
         "#316395"
        ],
        "font": {
         "color": "black",
         "family": "Nunito",
         "size": 16
        },
        "height": 500,
        "legend": {
         "font": {
          "color": "black",
          "family": "Nunito",
          "size": 12
         }
        },
        "paper_bgcolor": "#ffffff",
        "plot_bgcolor": "#ffffff",
        "template": {
         "data": {
          "bar": [
           {
            "error_x": {
             "color": "#2a3f5f"
            },
            "error_y": {
             "color": "#2a3f5f"
            },
            "marker": {
             "line": {
              "color": "#E5ECF6",
              "width": 0.5
             },
             "pattern": {
              "fillmode": "overlay",
              "size": 10,
              "solidity": 0.2
             }
            },
            "type": "bar"
           }
          ],
          "barpolar": [
           {
            "marker": {
             "line": {
              "color": "#E5ECF6",
              "width": 0.5
             },
             "pattern": {
              "fillmode": "overlay",
              "size": 10,
              "solidity": 0.2
             }
            },
            "type": "barpolar"
           }
          ],
          "carpet": [
           {
            "aaxis": {
             "endlinecolor": "#2a3f5f",
             "gridcolor": "white",
             "linecolor": "white",
             "minorgridcolor": "white",
             "startlinecolor": "#2a3f5f"
            },
            "baxis": {
             "endlinecolor": "#2a3f5f",
             "gridcolor": "white",
             "linecolor": "white",
             "minorgridcolor": "white",
             "startlinecolor": "#2a3f5f"
            },
            "type": "carpet"
           }
          ],
          "choropleth": [
           {
            "colorbar": {
             "outlinewidth": 0,
             "ticks": ""
            },
            "type": "choropleth"
           }
          ],
          "contour": [
           {
            "colorbar": {
             "outlinewidth": 0,
             "ticks": ""
            },
            "colorscale": [
             [
              0,
              "#0d0887"
             ],
             [
              0.1111111111111111,
              "#46039f"
             ],
             [
              0.2222222222222222,
              "#7201a8"
             ],
             [
              0.3333333333333333,
              "#9c179e"
             ],
             [
              0.4444444444444444,
              "#bd3786"
             ],
             [
              0.5555555555555556,
              "#d8576b"
             ],
             [
              0.6666666666666666,
              "#ed7953"
             ],
             [
              0.7777777777777778,
              "#fb9f3a"
             ],
             [
              0.8888888888888888,
              "#fdca26"
             ],
             [
              1,
              "#f0f921"
             ]
            ],
            "type": "contour"
           }
          ],
          "contourcarpet": [
           {
            "colorbar": {
             "outlinewidth": 0,
             "ticks": ""
            },
            "type": "contourcarpet"
           }
          ],
          "heatmap": [
           {
            "colorbar": {
             "outlinewidth": 0,
             "ticks": ""
            },
            "colorscale": [
             [
              0,
              "#0d0887"
             ],
             [
              0.1111111111111111,
              "#46039f"
             ],
             [
              0.2222222222222222,
              "#7201a8"
             ],
             [
              0.3333333333333333,
              "#9c179e"
             ],
             [
              0.4444444444444444,
              "#bd3786"
             ],
             [
              0.5555555555555556,
              "#d8576b"
             ],
             [
              0.6666666666666666,
              "#ed7953"
             ],
             [
              0.7777777777777778,
              "#fb9f3a"
             ],
             [
              0.8888888888888888,
              "#fdca26"
             ],
             [
              1,
              "#f0f921"
             ]
            ],
            "type": "heatmap"
           }
          ],
          "heatmapgl": [
           {
            "colorbar": {
             "outlinewidth": 0,
             "ticks": ""
            },
            "colorscale": [
             [
              0,
              "#0d0887"
             ],
             [
              0.1111111111111111,
              "#46039f"
             ],
             [
              0.2222222222222222,
              "#7201a8"
             ],
             [
              0.3333333333333333,
              "#9c179e"
             ],
             [
              0.4444444444444444,
              "#bd3786"
             ],
             [
              0.5555555555555556,
              "#d8576b"
             ],
             [
              0.6666666666666666,
              "#ed7953"
             ],
             [
              0.7777777777777778,
              "#fb9f3a"
             ],
             [
              0.8888888888888888,
              "#fdca26"
             ],
             [
              1,
              "#f0f921"
             ]
            ],
            "type": "heatmapgl"
           }
          ],
          "histogram": [
           {
            "marker": {
             "pattern": {
              "fillmode": "overlay",
              "size": 10,
              "solidity": 0.2
             }
            },
            "type": "histogram"
           }
          ],
          "histogram2d": [
           {
            "colorbar": {
             "outlinewidth": 0,
             "ticks": ""
            },
            "colorscale": [
             [
              0,
              "#0d0887"
             ],
             [
              0.1111111111111111,
              "#46039f"
             ],
             [
              0.2222222222222222,
              "#7201a8"
             ],
             [
              0.3333333333333333,
              "#9c179e"
             ],
             [
              0.4444444444444444,
              "#bd3786"
             ],
             [
              0.5555555555555556,
              "#d8576b"
             ],
             [
              0.6666666666666666,
              "#ed7953"
             ],
             [
              0.7777777777777778,
              "#fb9f3a"
             ],
             [
              0.8888888888888888,
              "#fdca26"
             ],
             [
              1,
              "#f0f921"
             ]
            ],
            "type": "histogram2d"
           }
          ],
          "histogram2dcontour": [
           {
            "colorbar": {
             "outlinewidth": 0,
             "ticks": ""
            },
            "colorscale": [
             [
              0,
              "#0d0887"
             ],
             [
              0.1111111111111111,
              "#46039f"
             ],
             [
              0.2222222222222222,
              "#7201a8"
             ],
             [
              0.3333333333333333,
              "#9c179e"
             ],
             [
              0.4444444444444444,
              "#bd3786"
             ],
             [
              0.5555555555555556,
              "#d8576b"
             ],
             [
              0.6666666666666666,
              "#ed7953"
             ],
             [
              0.7777777777777778,
              "#fb9f3a"
             ],
             [
              0.8888888888888888,
              "#fdca26"
             ],
             [
              1,
              "#f0f921"
             ]
            ],
            "type": "histogram2dcontour"
           }
          ],
          "mesh3d": [
           {
            "colorbar": {
             "outlinewidth": 0,
             "ticks": ""
            },
            "type": "mesh3d"
           }
          ],
          "parcoords": [
           {
            "line": {
             "colorbar": {
              "outlinewidth": 0,
              "ticks": ""
             }
            },
            "type": "parcoords"
           }
          ],
          "pie": [
           {
            "automargin": true,
            "type": "pie"
           }
          ],
          "scatter": [
           {
            "fillpattern": {
             "fillmode": "overlay",
             "size": 10,
             "solidity": 0.2
            },
            "type": "scatter"
           }
          ],
          "scatter3d": [
           {
            "line": {
             "colorbar": {
              "outlinewidth": 0,
              "ticks": ""
             }
            },
            "marker": {
             "colorbar": {
              "outlinewidth": 0,
              "ticks": ""
             }
            },
            "type": "scatter3d"
           }
          ],
          "scattercarpet": [
           {
            "marker": {
             "colorbar": {
              "outlinewidth": 0,
              "ticks": ""
             }
            },
            "type": "scattercarpet"
           }
          ],
          "scattergeo": [
           {
            "marker": {
             "colorbar": {
              "outlinewidth": 0,
              "ticks": ""
             }
            },
            "type": "scattergeo"
           }
          ],
          "scattergl": [
           {
            "marker": {
             "colorbar": {
              "outlinewidth": 0,
              "ticks": ""
             }
            },
            "type": "scattergl"
           }
          ],
          "scattermapbox": [
           {
            "marker": {
             "colorbar": {
              "outlinewidth": 0,
              "ticks": ""
             }
            },
            "type": "scattermapbox"
           }
          ],
          "scatterpolar": [
           {
            "marker": {
             "colorbar": {
              "outlinewidth": 0,
              "ticks": ""
             }
            },
            "type": "scatterpolar"
           }
          ],
          "scatterpolargl": [
           {
            "marker": {
             "colorbar": {
              "outlinewidth": 0,
              "ticks": ""
             }
            },
            "type": "scatterpolargl"
           }
          ],
          "scatterternary": [
           {
            "marker": {
             "colorbar": {
              "outlinewidth": 0,
              "ticks": ""
             }
            },
            "type": "scatterternary"
           }
          ],
          "surface": [
           {
            "colorbar": {
             "outlinewidth": 0,
             "ticks": ""
            },
            "colorscale": [
             [
              0,
              "#0d0887"
             ],
             [
              0.1111111111111111,
              "#46039f"
             ],
             [
              0.2222222222222222,
              "#7201a8"
             ],
             [
              0.3333333333333333,
              "#9c179e"
             ],
             [
              0.4444444444444444,
              "#bd3786"
             ],
             [
              0.5555555555555556,
              "#d8576b"
             ],
             [
              0.6666666666666666,
              "#ed7953"
             ],
             [
              0.7777777777777778,
              "#fb9f3a"
             ],
             [
              0.8888888888888888,
              "#fdca26"
             ],
             [
              1,
              "#f0f921"
             ]
            ],
            "type": "surface"
           }
          ],
          "table": [
           {
            "cells": {
             "fill": {
              "color": "#EBF0F8"
             },
             "line": {
              "color": "white"
             }
            },
            "header": {
             "fill": {
              "color": "#C8D4E3"
             },
             "line": {
              "color": "white"
             }
            },
            "type": "table"
           }
          ]
         },
         "layout": {
          "annotationdefaults": {
           "arrowcolor": "#2a3f5f",
           "arrowhead": 0,
           "arrowwidth": 1
          },
          "autotypenumbers": "strict",
          "coloraxis": {
           "colorbar": {
            "outlinewidth": 0,
            "ticks": ""
           }
          },
          "colorscale": {
           "diverging": [
            [
             0,
             "#8e0152"
            ],
            [
             0.1,
             "#c51b7d"
            ],
            [
             0.2,
             "#de77ae"
            ],
            [
             0.3,
             "#f1b6da"
            ],
            [
             0.4,
             "#fde0ef"
            ],
            [
             0.5,
             "#f7f7f7"
            ],
            [
             0.6,
             "#e6f5d0"
            ],
            [
             0.7,
             "#b8e186"
            ],
            [
             0.8,
             "#7fbc41"
            ],
            [
             0.9,
             "#4d9221"
            ],
            [
             1,
             "#276419"
            ]
           ],
           "sequential": [
            [
             0,
             "#0d0887"
            ],
            [
             0.1111111111111111,
             "#46039f"
            ],
            [
             0.2222222222222222,
             "#7201a8"
            ],
            [
             0.3333333333333333,
             "#9c179e"
            ],
            [
             0.4444444444444444,
             "#bd3786"
            ],
            [
             0.5555555555555556,
             "#d8576b"
            ],
            [
             0.6666666666666666,
             "#ed7953"
            ],
            [
             0.7777777777777778,
             "#fb9f3a"
            ],
            [
             0.8888888888888888,
             "#fdca26"
            ],
            [
             1,
             "#f0f921"
            ]
           ],
           "sequentialminus": [
            [
             0,
             "#0d0887"
            ],
            [
             0.1111111111111111,
             "#46039f"
            ],
            [
             0.2222222222222222,
             "#7201a8"
            ],
            [
             0.3333333333333333,
             "#9c179e"
            ],
            [
             0.4444444444444444,
             "#bd3786"
            ],
            [
             0.5555555555555556,
             "#d8576b"
            ],
            [
             0.6666666666666666,
             "#ed7953"
            ],
            [
             0.7777777777777778,
             "#fb9f3a"
            ],
            [
             0.8888888888888888,
             "#fdca26"
            ],
            [
             1,
             "#f0f921"
            ]
           ]
          },
          "colorway": [
           "#636efa",
           "#EF553B",
           "#00cc96",
           "#ab63fa",
           "#FFA15A",
           "#19d3f3",
           "#FF6692",
           "#B6E880",
           "#FF97FF",
           "#FECB52"
          ],
          "font": {
           "color": "#2a3f5f"
          },
          "geo": {
           "bgcolor": "white",
           "lakecolor": "white",
           "landcolor": "#E5ECF6",
           "showlakes": true,
           "showland": true,
           "subunitcolor": "white"
          },
          "hoverlabel": {
           "align": "left"
          },
          "hovermode": "closest",
          "mapbox": {
           "style": "light"
          },
          "paper_bgcolor": "white",
          "plot_bgcolor": "#E5ECF6",
          "polar": {
           "angularaxis": {
            "gridcolor": "white",
            "linecolor": "white",
            "ticks": ""
           },
           "bgcolor": "#E5ECF6",
           "radialaxis": {
            "gridcolor": "white",
            "linecolor": "white",
            "ticks": ""
           }
          },
          "scene": {
           "xaxis": {
            "backgroundcolor": "#E5ECF6",
            "gridcolor": "white",
            "gridwidth": 2,
            "linecolor": "white",
            "showbackground": true,
            "ticks": "",
            "zerolinecolor": "white"
           },
           "yaxis": {
            "backgroundcolor": "#E5ECF6",
            "gridcolor": "white",
            "gridwidth": 2,
            "linecolor": "white",
            "showbackground": true,
            "ticks": "",
            "zerolinecolor": "white"
           },
           "zaxis": {
            "backgroundcolor": "#E5ECF6",
            "gridcolor": "white",
            "gridwidth": 2,
            "linecolor": "white",
            "showbackground": true,
            "ticks": "",
            "zerolinecolor": "white"
           }
          },
          "shapedefaults": {
           "line": {
            "color": "#2a3f5f"
           }
          },
          "ternary": {
           "aaxis": {
            "gridcolor": "white",
            "linecolor": "white",
            "ticks": ""
           },
           "baxis": {
            "gridcolor": "white",
            "linecolor": "white",
            "ticks": ""
           },
           "bgcolor": "#E5ECF6",
           "caxis": {
            "gridcolor": "white",
            "linecolor": "white",
            "ticks": ""
           }
          },
          "title": {
           "x": 0.05
          },
          "xaxis": {
           "automargin": true,
           "gridcolor": "white",
           "linecolor": "white",
           "ticks": "",
           "title": {
            "standoff": 15
           },
           "zerolinecolor": "white",
           "zerolinewidth": 2
          },
          "yaxis": {
           "automargin": true,
           "gridcolor": "white",
           "linecolor": "white",
           "ticks": "",
           "title": {
            "standoff": 15
           },
           "zerolinecolor": "white",
           "zerolinewidth": 2
          }
         }
        },
        "title": {
         "font": {
          "color": "#1f1f1f",
          "family": "Lato",
          "size": 18
         },
         "text": "Cross section"
        },
        "width": 1000
       }
      },
      "text/html": [
       "<div>                            <div id=\"6705dbe0-4451-46ed-89ae-3472881a163c\" class=\"plotly-graph-div\" style=\"height:500px; width:1000px;\"></div>            <script type=\"text/javascript\">                require([\"plotly\"], function(Plotly) {                    window.PLOTLYENV=window.PLOTLYENV || {};                                    if (document.getElementById(\"6705dbe0-4451-46ed-89ae-3472881a163c\")) {                    Plotly.newPlot(                        \"6705dbe0-4451-46ed-89ae-3472881a163c\",                        [{\"error_y\":{\"array\":[2.94192642233364e-14,2.7243813396436463,2.7453955143504887,7.714507366129893,9.025896926565608,9.772373026502326],\"type\":\"data\",\"visible\":true},\"line\":{\"color\":\"red\"},\"name\":\"Cross Section\",\"x\":[\"Lumi bin 1= (0.006 , 9.989) \",\"Lumi bin 2= (9.989 , 15.645) \",\"Lumi bin 3= (15.645 , 17.403) \",\"Lumi bin 4= (17.403 , 21.852) \",\"Lumi bin 5= (21.852 , 25.701) \",\"Lumi bin 6= (25.701 , 40.425) \"],\"y\":[98.99999999999997,97.54384444092351,83.8623596617972,81.77351238651966,78.75305454803024,77.97406651999792],\"type\":\"scatter\"},{\"line\":{\"color\":\"rgb(0,100,80)\"},\"name\":\"CMS cross section\",\"x\":[\"Lumi bin 1= (0.006 , 9.989) \",\"Lumi bin 2= (9.989 , 15.645) \",\"Lumi bin 3= (15.645 , 17.403) \",\"Lumi bin 4= (17.403 , 21.852) \",\"Lumi bin 5= (21.852 , 25.701) \",\"Lumi bin 6= (25.701 , 40.425) \"],\"y\":[69.2,69.2,69.2,69.2,69.2,69.2],\"type\":\"scatter\"},{\"fill\":\"tonexty\",\"line\":{\"color\":\"rgb(0,100,80)\"},\"name\":\"Error Band\",\"x\":[\"Lumi bin 1= (0.006 , 9.989) \",\"Lumi bin 2= (9.989 , 15.645) \",\"Lumi bin 3= (15.645 , 17.403) \",\"Lumi bin 4= (17.403 , 21.852) \",\"Lumi bin 5= (21.852 , 25.701) \",\"Lumi bin 6= (25.701 , 40.425) \"],\"y\":[72.3832,72.3832,72.3832,72.3832,72.3832,72.3832],\"type\":\"scatter\"},{\"fill\":\"tonexty\",\"line\":{\"color\":\"rgb(0,100,80)\"},\"name\":\"Error Band\",\"x\":[\"Lumi bin 1= (0.006 , 9.989) \",\"Lumi bin 2= (9.989 , 15.645) \",\"Lumi bin 3= (15.645 , 17.403) \",\"Lumi bin 4= (17.403 , 21.852) \",\"Lumi bin 5= (21.852 , 25.701) \",\"Lumi bin 6= (25.701 , 40.425) \"],\"y\":[66.0168,66.0168,66.0168,66.0168,66.0168,66.0168],\"type\":\"scatter\"}],                        {\"template\":{\"data\":{\"histogram2dcontour\":[{\"type\":\"histogram2dcontour\",\"colorbar\":{\"outlinewidth\":0,\"ticks\":\"\"},\"colorscale\":[[0.0,\"#0d0887\"],[0.1111111111111111,\"#46039f\"],[0.2222222222222222,\"#7201a8\"],[0.3333333333333333,\"#9c179e\"],[0.4444444444444444,\"#bd3786\"],[0.5555555555555556,\"#d8576b\"],[0.6666666666666666,\"#ed7953\"],[0.7777777777777778,\"#fb9f3a\"],[0.8888888888888888,\"#fdca26\"],[1.0,\"#f0f921\"]]}],\"choropleth\":[{\"type\":\"choropleth\",\"colorbar\":{\"outlinewidth\":0,\"ticks\":\"\"}}],\"histogram2d\":[{\"type\":\"histogram2d\",\"colorbar\":{\"outlinewidth\":0,\"ticks\":\"\"},\"colorscale\":[[0.0,\"#0d0887\"],[0.1111111111111111,\"#46039f\"],[0.2222222222222222,\"#7201a8\"],[0.3333333333333333,\"#9c179e\"],[0.4444444444444444,\"#bd3786\"],[0.5555555555555556,\"#d8576b\"],[0.6666666666666666,\"#ed7953\"],[0.7777777777777778,\"#fb9f3a\"],[0.8888888888888888,\"#fdca26\"],[1.0,\"#f0f921\"]]}],\"heatmap\":[{\"type\":\"heatmap\",\"colorbar\":{\"outlinewidth\":0,\"ticks\":\"\"},\"colorscale\":[[0.0,\"#0d0887\"],[0.1111111111111111,\"#46039f\"],[0.2222222222222222,\"#7201a8\"],[0.3333333333333333,\"#9c179e\"],[0.4444444444444444,\"#bd3786\"],[0.5555555555555556,\"#d8576b\"],[0.6666666666666666,\"#ed7953\"],[0.7777777777777778,\"#fb9f3a\"],[0.8888888888888888,\"#fdca26\"],[1.0,\"#f0f921\"]]}],\"heatmapgl\":[{\"type\":\"heatmapgl\",\"colorbar\":{\"outlinewidth\":0,\"ticks\":\"\"},\"colorscale\":[[0.0,\"#0d0887\"],[0.1111111111111111,\"#46039f\"],[0.2222222222222222,\"#7201a8\"],[0.3333333333333333,\"#9c179e\"],[0.4444444444444444,\"#bd3786\"],[0.5555555555555556,\"#d8576b\"],[0.6666666666666666,\"#ed7953\"],[0.7777777777777778,\"#fb9f3a\"],[0.8888888888888888,\"#fdca26\"],[1.0,\"#f0f921\"]]}],\"contourcarpet\":[{\"type\":\"contourcarpet\",\"colorbar\":{\"outlinewidth\":0,\"ticks\":\"\"}}],\"contour\":[{\"type\":\"contour\",\"colorbar\":{\"outlinewidth\":0,\"ticks\":\"\"},\"colorscale\":[[0.0,\"#0d0887\"],[0.1111111111111111,\"#46039f\"],[0.2222222222222222,\"#7201a8\"],[0.3333333333333333,\"#9c179e\"],[0.4444444444444444,\"#bd3786\"],[0.5555555555555556,\"#d8576b\"],[0.6666666666666666,\"#ed7953\"],[0.7777777777777778,\"#fb9f3a\"],[0.8888888888888888,\"#fdca26\"],[1.0,\"#f0f921\"]]}],\"surface\":[{\"type\":\"surface\",\"colorbar\":{\"outlinewidth\":0,\"ticks\":\"\"},\"colorscale\":[[0.0,\"#0d0887\"],[0.1111111111111111,\"#46039f\"],[0.2222222222222222,\"#7201a8\"],[0.3333333333333333,\"#9c179e\"],[0.4444444444444444,\"#bd3786\"],[0.5555555555555556,\"#d8576b\"],[0.6666666666666666,\"#ed7953\"],[0.7777777777777778,\"#fb9f3a\"],[0.8888888888888888,\"#fdca26\"],[1.0,\"#f0f921\"]]}],\"mesh3d\":[{\"type\":\"mesh3d\",\"colorbar\":{\"outlinewidth\":0,\"ticks\":\"\"}}],\"scatter\":[{\"fillpattern\":{\"fillmode\":\"overlay\",\"size\":10,\"solidity\":0.2},\"type\":\"scatter\"}],\"parcoords\":[{\"type\":\"parcoords\",\"line\":{\"colorbar\":{\"outlinewidth\":0,\"ticks\":\"\"}}}],\"scatterpolargl\":[{\"type\":\"scatterpolargl\",\"marker\":{\"colorbar\":{\"outlinewidth\":0,\"ticks\":\"\"}}}],\"bar\":[{\"error_x\":{\"color\":\"#2a3f5f\"},\"error_y\":{\"color\":\"#2a3f5f\"},\"marker\":{\"line\":{\"color\":\"#E5ECF6\",\"width\":0.5},\"pattern\":{\"fillmode\":\"overlay\",\"size\":10,\"solidity\":0.2}},\"type\":\"bar\"}],\"scattergeo\":[{\"type\":\"scattergeo\",\"marker\":{\"colorbar\":{\"outlinewidth\":0,\"ticks\":\"\"}}}],\"scatterpolar\":[{\"type\":\"scatterpolar\",\"marker\":{\"colorbar\":{\"outlinewidth\":0,\"ticks\":\"\"}}}],\"histogram\":[{\"marker\":{\"pattern\":{\"fillmode\":\"overlay\",\"size\":10,\"solidity\":0.2}},\"type\":\"histogram\"}],\"scattergl\":[{\"type\":\"scattergl\",\"marker\":{\"colorbar\":{\"outlinewidth\":0,\"ticks\":\"\"}}}],\"scatter3d\":[{\"type\":\"scatter3d\",\"line\":{\"colorbar\":{\"outlinewidth\":0,\"ticks\":\"\"}},\"marker\":{\"colorbar\":{\"outlinewidth\":0,\"ticks\":\"\"}}}],\"scattermapbox\":[{\"type\":\"scattermapbox\",\"marker\":{\"colorbar\":{\"outlinewidth\":0,\"ticks\":\"\"}}}],\"scatterternary\":[{\"type\":\"scatterternary\",\"marker\":{\"colorbar\":{\"outlinewidth\":0,\"ticks\":\"\"}}}],\"scattercarpet\":[{\"type\":\"scattercarpet\",\"marker\":{\"colorbar\":{\"outlinewidth\":0,\"ticks\":\"\"}}}],\"carpet\":[{\"aaxis\":{\"endlinecolor\":\"#2a3f5f\",\"gridcolor\":\"white\",\"linecolor\":\"white\",\"minorgridcolor\":\"white\",\"startlinecolor\":\"#2a3f5f\"},\"baxis\":{\"endlinecolor\":\"#2a3f5f\",\"gridcolor\":\"white\",\"linecolor\":\"white\",\"minorgridcolor\":\"white\",\"startlinecolor\":\"#2a3f5f\"},\"type\":\"carpet\"}],\"table\":[{\"cells\":{\"fill\":{\"color\":\"#EBF0F8\"},\"line\":{\"color\":\"white\"}},\"header\":{\"fill\":{\"color\":\"#C8D4E3\"},\"line\":{\"color\":\"white\"}},\"type\":\"table\"}],\"barpolar\":[{\"marker\":{\"line\":{\"color\":\"#E5ECF6\",\"width\":0.5},\"pattern\":{\"fillmode\":\"overlay\",\"size\":10,\"solidity\":0.2}},\"type\":\"barpolar\"}],\"pie\":[{\"automargin\":true,\"type\":\"pie\"}]},\"layout\":{\"autotypenumbers\":\"strict\",\"colorway\":[\"#636efa\",\"#EF553B\",\"#00cc96\",\"#ab63fa\",\"#FFA15A\",\"#19d3f3\",\"#FF6692\",\"#B6E880\",\"#FF97FF\",\"#FECB52\"],\"font\":{\"color\":\"#2a3f5f\"},\"hovermode\":\"closest\",\"hoverlabel\":{\"align\":\"left\"},\"paper_bgcolor\":\"white\",\"plot_bgcolor\":\"#E5ECF6\",\"polar\":{\"bgcolor\":\"#E5ECF6\",\"angularaxis\":{\"gridcolor\":\"white\",\"linecolor\":\"white\",\"ticks\":\"\"},\"radialaxis\":{\"gridcolor\":\"white\",\"linecolor\":\"white\",\"ticks\":\"\"}},\"ternary\":{\"bgcolor\":\"#E5ECF6\",\"aaxis\":{\"gridcolor\":\"white\",\"linecolor\":\"white\",\"ticks\":\"\"},\"baxis\":{\"gridcolor\":\"white\",\"linecolor\":\"white\",\"ticks\":\"\"},\"caxis\":{\"gridcolor\":\"white\",\"linecolor\":\"white\",\"ticks\":\"\"}},\"coloraxis\":{\"colorbar\":{\"outlinewidth\":0,\"ticks\":\"\"}},\"colorscale\":{\"sequential\":[[0.0,\"#0d0887\"],[0.1111111111111111,\"#46039f\"],[0.2222222222222222,\"#7201a8\"],[0.3333333333333333,\"#9c179e\"],[0.4444444444444444,\"#bd3786\"],[0.5555555555555556,\"#d8576b\"],[0.6666666666666666,\"#ed7953\"],[0.7777777777777778,\"#fb9f3a\"],[0.8888888888888888,\"#fdca26\"],[1.0,\"#f0f921\"]],\"sequentialminus\":[[0.0,\"#0d0887\"],[0.1111111111111111,\"#46039f\"],[0.2222222222222222,\"#7201a8\"],[0.3333333333333333,\"#9c179e\"],[0.4444444444444444,\"#bd3786\"],[0.5555555555555556,\"#d8576b\"],[0.6666666666666666,\"#ed7953\"],[0.7777777777777778,\"#fb9f3a\"],[0.8888888888888888,\"#fdca26\"],[1.0,\"#f0f921\"]],\"diverging\":[[0,\"#8e0152\"],[0.1,\"#c51b7d\"],[0.2,\"#de77ae\"],[0.3,\"#f1b6da\"],[0.4,\"#fde0ef\"],[0.5,\"#f7f7f7\"],[0.6,\"#e6f5d0\"],[0.7,\"#b8e186\"],[0.8,\"#7fbc41\"],[0.9,\"#4d9221\"],[1,\"#276419\"]]},\"xaxis\":{\"gridcolor\":\"white\",\"linecolor\":\"white\",\"ticks\":\"\",\"title\":{\"standoff\":15},\"zerolinecolor\":\"white\",\"automargin\":true,\"zerolinewidth\":2},\"yaxis\":{\"gridcolor\":\"white\",\"linecolor\":\"white\",\"ticks\":\"\",\"title\":{\"standoff\":15},\"zerolinecolor\":\"white\",\"automargin\":true,\"zerolinewidth\":2},\"scene\":{\"xaxis\":{\"backgroundcolor\":\"#E5ECF6\",\"gridcolor\":\"white\",\"linecolor\":\"white\",\"showbackground\":true,\"ticks\":\"\",\"zerolinecolor\":\"white\",\"gridwidth\":2},\"yaxis\":{\"backgroundcolor\":\"#E5ECF6\",\"gridcolor\":\"white\",\"linecolor\":\"white\",\"showbackground\":true,\"ticks\":\"\",\"zerolinecolor\":\"white\",\"gridwidth\":2},\"zaxis\":{\"backgroundcolor\":\"#E5ECF6\",\"gridcolor\":\"white\",\"linecolor\":\"white\",\"showbackground\":true,\"ticks\":\"\",\"zerolinecolor\":\"white\",\"gridwidth\":2}},\"shapedefaults\":{\"line\":{\"color\":\"#2a3f5f\"}},\"annotationdefaults\":{\"arrowcolor\":\"#2a3f5f\",\"arrowhead\":0,\"arrowwidth\":1},\"geo\":{\"bgcolor\":\"white\",\"landcolor\":\"#E5ECF6\",\"subunitcolor\":\"white\",\"showland\":true,\"showlakes\":true,\"lakecolor\":\"white\"},\"title\":{\"x\":0.05},\"mapbox\":{\"style\":\"light\"}}},\"font\":{\"color\":\"black\",\"family\":\"Nunito\",\"size\":16},\"legend\":{\"font\":{\"color\":\"black\",\"family\":\"Nunito\",\"size\":12}},\"title\":{\"font\":{\"color\":\"#1f1f1f\",\"family\":\"Lato\",\"size\":18},\"text\":\"Cross section\"},\"autosize\":false,\"colorway\":[\"#3366CC\",\"#DC3912\",\"#FF9900\",\"#109618\",\"#990099\",\"#0099C6\",\"#DD4477\",\"#66AA00\",\"#B82E2E\",\"#316395\"],\"height\":500,\"paper_bgcolor\":\"#ffffff\",\"plot_bgcolor\":\"#ffffff\",\"width\":1000},                        {\"responsive\": true}                    ).then(function(){\n",
       "                            \n",
       "var gd = document.getElementById('6705dbe0-4451-46ed-89ae-3472881a163c');\n",
       "var x = new MutationObserver(function (mutations, observer) {{\n",
       "        var display = window.getComputedStyle(gd).display;\n",
       "        if (!display || display === 'none') {{\n",
       "            console.log([gd, 'removed!']);\n",
       "            Plotly.purge(gd);\n",
       "            observer.disconnect();\n",
       "        }}\n",
       "}});\n",
       "\n",
       "// Listen for the removal of the full notebook cells\n",
       "var notebookContainer = gd.closest('#notebook-container');\n",
       "if (notebookContainer) {{\n",
       "    x.observe(notebookContainer, {childList: true});\n",
       "}}\n",
       "\n",
       "// Listen for the clearing of the current output cell\n",
       "var outputEl = gd.closest('.output');\n",
       "if (outputEl) {{\n",
       "    x.observe(outputEl, {childList: true});\n",
       "}}\n",
       "\n",
       "                        })                };                });            </script>        </div>"
      ]
     },
     "metadata": {},
     "output_type": "display_data"
    }
   ],
   "source": [
    "#len(X) = len(index)\n",
    "cmscs = 69.2\n",
    "Y = [cmscs]* len(index)\n",
    "y_upper = [cmscs + cmscs*4.6/100]*len(index)\n",
    "y_lower = [cmscs - cmscs*4.6/100]*len(index)\n",
    "\n",
    "fig = go.Figure([\n",
    "    go.Scatter(\n",
    "        x=index,\n",
    "        y=whole.iloc[-2],\n",
    "        name = 'Cross Section' ,\n",
    "        line=dict(color='red'),\n",
    "        error_y=dict(\n",
    "            type='data',\n",
    "            array=whole.iloc[-1],\n",
    "            visible=True)\n",
    "    )]\n",
    "    )\n",
    "\n",
    "custom_template = {\n",
    "    \"layout\": go.Layout(\n",
    "        font={\n",
    "            \"family\": \"Nunito\",\n",
    "            \"size\": 16,\n",
    "            \"color\": \"black\",\n",
    "        },\n",
    "        title={\n",
    "            \"text\": \"Cross section\",\n",
    "            \"font\": {\n",
    "                \"family\": \"Lato\",\n",
    "                \"size\": 18,\n",
    "                \"color\": \"#1f1f1f\",\n",
    "            },\n",
    "        },\n",
    "        autosize=False,\n",
    "        width=1000,\n",
    "        height=500,\n",
    "        plot_bgcolor=\"#ffffff\",\n",
    "        paper_bgcolor=\"#ffffff\",\n",
    "        colorway=px.colors.qualitative.G10,\n",
    "        legend=dict(font=dict(family=\"Nunito\", size=12, color=\"black\")),\n",
    "    )\n",
    "}\n",
    "fig.add_scatter(x = index, y = Y , name = 'CMS cross section' , line=dict(color='rgb(0,100,80)'))\n",
    "fig.add_scatter(x = index , y = y_upper , name = 'Error Band' , line=dict(color='rgb(0,100,80)') , fill='tonexty')\n",
    "fig.add_scatter(x = index , y = y_lower , name = 'Error Band' , line=dict(color='rgb(0,100,80)') , fill='tonexty')\n",
    "\n",
    "fig.update_layout(custom_template['layout'])\n",
    "fig.show()"
   ]
  },
  {
   "cell_type": "markdown",
   "id": "b5e7db9e",
   "metadata": {},
   "source": [
    "ghtml = fig.to_html()\n",
    "Path('{0}/'.format(directory) ).mkdir(parents=True, exist_ok=True)\n",
    "with open('{0}/{1}.html'.format(directory , eraName) , 'w') as f:\n",
    "    f.write(ghtml)"
   ]
  },
  {
   "cell_type": "code",
   "execution_count": null,
   "id": "6c31cec5",
   "metadata": {},
   "outputs": [],
   "source": []
  }
 ],
 "metadata": {
  "@webio": {
   "lastCommId": null,
   "lastKernelId": null
  },
  "kernelspec": {
   "display_name": "Python 3",
   "language": "python",
   "name": "python3"
  },
  "language_info": {
   "codemirror_mode": {
    "name": "ipython",
    "version": 3
   },
   "file_extension": ".py",
   "mimetype": "text/x-python",
   "name": "python",
   "nbconvert_exporter": "python",
   "pygments_lexer": "ipython3",
   "version": "3.9.12"
  }
 },
 "nbformat": 4,
 "nbformat_minor": 5
}
