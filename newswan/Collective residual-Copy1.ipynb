{
 "cells": [
  {
   "cell_type": "code",
   "execution_count": 1,
   "id": "469a4083",
   "metadata": {},
   "outputs": [
    {
     "name": "stdout",
     "output_type": "stream",
     "text": [
      "Welcome to JupyROOT 6.30/04\n"
     ]
    }
   ],
   "source": [
    "import pandas as pd\n",
    "from math import sqrt ,  log\n",
    "import numpy as np\n",
    "import ROOT\n",
    "\n",
    "\n",
    "import matplotlib.pyplot as plt\n",
    "import matplotlib.gridspec as gridspec\n",
    "from matplotlib.colors import LogNorm\n",
    "import plotly.graph_objects as go\n",
    "import plotly.express as px\n",
    "\n",
    "from pathlib import Path\n",
    "\n",
    "#read CSV file\n",
    "\n",
    "directory = '/eos/user/m/mkhalife/eos/newRes/CSV'"
   ]
  },
  {
   "cell_type": "code",
   "execution_count": 2,
   "id": "7580519e",
   "metadata": {},
   "outputs": [
    {
     "data": {
      "text/plain": [
       "0     19.207756\n",
       "1     17.362580\n",
       "4      8.877393\n",
       "6     19.809282\n",
       "9     29.044570\n",
       "10    44.791165\n",
       "11    14.570437\n",
       "13    20.867727\n",
       "dtype: float64"
      ]
     },
     "execution_count": 2,
     "metadata": {},
     "output_type": "execute_result"
    }
   ],
   "source": [
    "csvFileB = 'combinedZeroBias22B.csv'\n",
    "eraName = 'B'\n",
    "dfB = pd.read_csv('{0}/{1}'.format(directory , csvFileB))\n",
    "    \n",
    "dfBRemoved = dfB.drop(columns = dfB.iloc[: , [7 , 8 , 9 , 10 , 11 , 12]])\n",
    "\n",
    "for i in (2 , 3 , 5 , 7 , 8 , 12 , 14):\n",
    "    indexToRemove = i\n",
    "    dfBRemoved = dfBRemoved.drop(indexToRemove)\n",
    "\n",
    "    \n",
    "xLabelsB = dfBRemoved.columns[1:]\n",
    "yValuesB = dfBRemoved.iloc[:, 0]\n",
    "zValuesB = dfBRemoved.iloc[:,1:]\n",
    "\n",
    "\n",
    "xB = range(len(xLabelsB))\n",
    "yB = range(len(yValuesB))\n",
    "zB = np.array(zValuesB)\n",
    "\n",
    "rowSumsB = (dfBRemoved.iloc[:, 1:].sum(axis=1))/6\n",
    "\n",
    "\n",
    "logRowSumsB = []\n",
    "for i in (rowSumsB.index):\n",
    "    lrsg = log(rowSumsB[i])\n",
    "    logRowSumsB.append(lrsg)\n",
    "rowSumsB"
   ]
  },
  {
   "cell_type": "code",
   "execution_count": 3,
   "id": "cd90e792",
   "metadata": {},
   "outputs": [
    {
     "data": {
      "text/plain": [
       "0     13.691976\n",
       "1     16.792976\n",
       "4      4.280075\n",
       "6     51.500489\n",
       "9     28.777295\n",
       "10    74.638211\n",
       "11     7.620213\n",
       "13     9.497997\n",
       "dtype: float64"
      ]
     },
     "execution_count": 3,
     "metadata": {},
     "output_type": "execute_result"
    }
   ],
   "source": [
    "csvFileC = 'combinedZeroBias22C.csv'\n",
    "eraName = 'C'\n",
    "dfC = pd.read_csv('{0}/{1}'.format(directory , csvFileC))\n",
    "    \n",
    "dfCRemoved = dfC.drop(columns = dfC.iloc[: , [7 , 8 , 9 , 10 , 11 , 12]])\n",
    "\n",
    "for i in (2 , 3 , 5 , 7 , 8 , 12 , 14):\n",
    "    indexToRemove = i\n",
    "    dfCRemoved = dfCRemoved.drop(indexToRemove)\n",
    "\n",
    "    \n",
    "xLabelsC = dfCRemoved.columns[1:]\n",
    "yValuesC = dfCRemoved.iloc[:, 0]\n",
    "zValuesC = dfCRemoved.iloc[:,1:]\n",
    "\n",
    "\n",
    "xC = range(len(xLabelsC))\n",
    "yC = range(len(yValuesC))\n",
    "zC = np.array(zValuesC)\n",
    "\n",
    "rowSumsC = (dfCRemoved.iloc[:, 1:].sum(axis=1))/6\n",
    "\n",
    "\n",
    "\n",
    "\n",
    "logRowSumsC = []\n",
    "for i in (rowSumsC.index):\n",
    "    lrsg = log(rowSumsC[i])\n",
    "    logRowSumsC.append(lrsg)\n",
    "rowSumsC"
   ]
  },
  {
   "cell_type": "code",
   "execution_count": 4,
   "id": "2432329b",
   "metadata": {},
   "outputs": [
    {
     "data": {
      "text/plain": [
       "0     14.197424\n",
       "1     14.230482\n",
       "4      4.228474\n",
       "6      8.285051\n",
       "9     21.656536\n",
       "10    50.730011\n",
       "11    11.199679\n",
       "13     8.698688\n",
       "dtype: float64"
      ]
     },
     "execution_count": 4,
     "metadata": {},
     "output_type": "execute_result"
    }
   ],
   "source": [
    "csvFileD = 'combinedZeroBias22D.csv'\n",
    "eraName = 'D'\n",
    "dfD = pd.read_csv('{0}/{1}'.format(directory , csvFileD))\n",
    "    \n",
    "dfDRemoved = dfD.drop(columns = dfD.iloc[: , [7 , 8 , 9 , 10 , 11 , 12]])\n",
    "\n",
    "for i in (2 , 3 , 5 , 7 , 8 , 12 , 14):\n",
    "    indexToRemove = i\n",
    "    dfDRemoved = dfDRemoved.drop(indexToRemove)\n",
    "\n",
    "    \n",
    "xLabelsD = dfDRemoved.columns[1:]\n",
    "yValuesD = dfDRemoved.iloc[:, 0]\n",
    "zValuesD = dfDRemoved.iloc[:,1:]\n",
    "\n",
    "\n",
    "xD = range(len(xLabelsD))\n",
    "yD = range(len(yValuesD))\n",
    "zD = np.array(zValuesD)\n",
    "\n",
    "rowSumsD = (dfDRemoved.iloc[:, 1:].sum(axis=1))/6\n",
    "\n",
    "\n",
    "\n",
    "logRowSumsD = []\n",
    "for i in (rowSumsD.index):\n",
    "    lrsg = log(rowSumsD[i])\n",
    "    logRowSumsD.append(lrsg)\n",
    "    \n",
    "    \n",
    "rowSumsD"
   ]
  },
  {
   "cell_type": "code",
   "execution_count": 5,
   "id": "ec1c9745",
   "metadata": {},
   "outputs": [
    {
     "data": {
      "text/plain": [
       "0     14.412454\n",
       "1     14.447247\n",
       "4      8.757202\n",
       "6     21.206709\n",
       "9     43.158282\n",
       "10    64.511994\n",
       "11    24.446701\n",
       "13    18.885315\n",
       "dtype: float64"
      ]
     },
     "execution_count": 5,
     "metadata": {},
     "output_type": "execute_result"
    }
   ],
   "source": [
    "csvFileE = 'combinedZeroBias22E.csv'\n",
    "eraName = 'E'\n",
    "dfE = pd.read_csv('{0}/{1}'.format(directory , csvFileE))\n",
    "    \n",
    "dfERemoved = dfE.drop(columns = dfE.iloc[: , [7 , 8 , 9 , 10 , 11 , 12]])\n",
    "\n",
    "for i in (2 , 3 , 5 , 7 , 8 , 12 , 14):\n",
    "    indexToRemove = i\n",
    "    dfERemoved = dfERemoved.drop(indexToRemove)\n",
    "\n",
    "    \n",
    "xLabelsE = dfERemoved.columns[1:]\n",
    "yValuesE = dfERemoved.iloc[:, 0]\n",
    "zValuesE = dfERemoved.iloc[:,1:]\n",
    "\n",
    "\n",
    "xE = range(len(xLabelsE))\n",
    "yE = range(len(yValuesE))\n",
    "zE = np.array(zValuesE)\n",
    "\n",
    "rowSumsE = (dfERemoved.iloc[:, 2:].sum(axis=1))/5\n",
    "\n",
    "\n",
    "logRowSumsE = []\n",
    "for i in (rowSumsE.index):\n",
    "    lrsg = log(rowSumsE[i])\n",
    "    logRowSumsE.append(lrsg)\n",
    "\n",
    "\n",
    "rowSumsE"
   ]
  },
  {
   "cell_type": "code",
   "execution_count": 6,
   "id": "8ead8c2c",
   "metadata": {},
   "outputs": [
    {
     "data": {
      "text/plain": [
       "0     17.535799\n",
       "1     20.604440\n",
       "4     16.698402\n",
       "6     18.507506\n",
       "9     25.691802\n",
       "10    30.178092\n",
       "11    19.084214\n",
       "13    10.595129\n",
       "dtype: float64"
      ]
     },
     "execution_count": 6,
     "metadata": {},
     "output_type": "execute_result"
    }
   ],
   "source": [
    "csvFileF = 'combinedZeroBias22F.csv'\n",
    "eraName = 'F'\n",
    "dfF = pd.read_csv('{0}/{1}'.format(directory , csvFileF))\n",
    "    \n",
    "dfFRemoved = dfF.drop(columns = dfF.iloc[: , [7 , 8 , 9 , 10 , 11 , 12]])\n",
    "\n",
    "for i in (2 , 3 , 5 , 7 , 8 , 12 , 14):\n",
    "    indexToRemove = i\n",
    "    dfFRemoved = dfFRemoved.drop(indexToRemove)\n",
    "\n",
    "    \n",
    "xLabelsF = dfFRemoved.columns[1:]\n",
    "yValuesF = dfFRemoved.iloc[:, 0]\n",
    "zValuesF = dfFRemoved.iloc[:,1:]\n",
    "\n",
    "\n",
    "xF = range(len(xLabelsF))\n",
    "yF = range(len(yValuesF))\n",
    "zF = np.array(zValuesF)\n",
    "\n",
    "rowSumsF = (dfFRemoved.iloc[:, 2:].sum(axis=1))/5\n",
    "logRowSumsF = []\n",
    "for i in (rowSumsF.index):\n",
    "    lrsg = log(rowSumsF[i])\n",
    "    logRowSumsF.append(lrsg)\n",
    "    \n",
    "    \n",
    "rowSumsF"
   ]
  },
  {
   "cell_type": "code",
   "execution_count": 7,
   "id": "a3c0623c",
   "metadata": {},
   "outputs": [
    {
     "data": {
      "text/plain": [
       "0     3.209421\n",
       "1     3.054253\n",
       "4     1.442445\n",
       "6     1.978521\n",
       "9     3.001046\n",
       "10    4.087972\n",
       "11    2.831691\n",
       "13    2.646057\n",
       "dtype: float64"
      ]
     },
     "execution_count": 7,
     "metadata": {},
     "output_type": "execute_result"
    }
   ],
   "source": [
    "csvFileG = 'combinedZeroBias22G.csv'\n",
    "eraName = 'G'\n",
    "dfG = pd.read_csv('{0}/{1}'.format(directory , csvFileG))\n",
    "    \n",
    "dfGRemoved = dfG.drop(columns = dfG.iloc[: , [7 , 8 , 9 , 10 , 11 , 12]])\n",
    "\n",
    "for i in (2 , 3 , 5 , 7 , 8 , 12 , 14):\n",
    "    indexToRemove = i\n",
    "    dfGRemoved = dfGRemoved.drop(indexToRemove)\n",
    "\n",
    "    \n",
    "xLabelsG = dfGRemoved.columns[1:]\n",
    "yValuesG = dfGRemoved.iloc[:, 0]\n",
    "zValuesG = dfGRemoved.iloc[:,1:]\n",
    "\n",
    "\n",
    "xG = range(len(xLabelsG))\n",
    "yG = range(len(yValuesG))\n",
    "zG = np.array(zValuesG)\n",
    "\n",
    "\n",
    "rowSumsG = (dfGRemoved.iloc[:, 1:].sum(axis=1))/6\n",
    "logRowSumsG = []\n",
    "for i in (rowSumsG.index):\n",
    "    lrsg = log(rowSumsG[i])\n",
    "    logRowSumsG.append(lrsg)\n",
    "    \n",
    "    \n",
    "    \n",
    "rowSumsG"
   ]
  },
  {
   "cell_type": "code",
   "execution_count": 8,
   "id": "eecc0afa",
   "metadata": {},
   "outputs": [
    {
     "data": {
      "text/plain": [
       "[1.1660906417813084,\n",
       " 1.1165351430669312,\n",
       " 0.3663395410794166,\n",
       " 0.6823494263341483,\n",
       " 1.098960944817767,\n",
       " 1.4080488902955064,\n",
       " 1.0408739948927477,\n",
       " 0.9730706439045794]"
      ]
     },
     "execution_count": 8,
     "metadata": {},
     "output_type": "execute_result"
    }
   ],
   "source": [
    "Var = dfBRemoved['Unnamed: 0']\n",
    "logRowSumsG"
   ]
  },
  {
   "cell_type": "code",
   "execution_count": 9,
   "id": "5c54b373",
   "metadata": {},
   "outputs": [
    {
     "data": {
      "text/html": [
       "<div>\n",
       "<style scoped>\n",
       "    .dataframe tbody tr th:only-of-type {\n",
       "        vertical-align: middle;\n",
       "    }\n",
       "\n",
       "    .dataframe tbody tr th {\n",
       "        vertical-align: top;\n",
       "    }\n",
       "\n",
       "    .dataframe thead th {\n",
       "        text-align: right;\n",
       "    }\n",
       "</style>\n",
       "<table border=\"1\" class=\"dataframe\">\n",
       "  <thead>\n",
       "    <tr style=\"text-align: right;\">\n",
       "      <th></th>\n",
       "      <th>Variables</th>\n",
       "      <th>Era B</th>\n",
       "      <th>Era C</th>\n",
       "      <th>Era D</th>\n",
       "      <th>Era E</th>\n",
       "      <th>Era F</th>\n",
       "      <th>Era G</th>\n",
       "    </tr>\n",
       "  </thead>\n",
       "  <tbody>\n",
       "    <tr>\n",
       "      <th>0</th>\n",
       "      <td>nVertices</td>\n",
       "      <td>19.207756</td>\n",
       "      <td>13.691976</td>\n",
       "      <td>14.197424</td>\n",
       "      <td>14.412454</td>\n",
       "      <td>17.535799</td>\n",
       "      <td>3.209421</td>\n",
       "    </tr>\n",
       "    <tr>\n",
       "      <th>1</th>\n",
       "      <td>nGoodVertices</td>\n",
       "      <td>17.362580</td>\n",
       "      <td>16.792976</td>\n",
       "      <td>14.230482</td>\n",
       "      <td>14.447247</td>\n",
       "      <td>20.604440</td>\n",
       "      <td>3.054253</td>\n",
       "    </tr>\n",
       "    <tr>\n",
       "      <th>4</th>\n",
       "      <td>nChargedHadrons</td>\n",
       "      <td>8.877393</td>\n",
       "      <td>4.280075</td>\n",
       "      <td>4.228474</td>\n",
       "      <td>8.757202</td>\n",
       "      <td>16.698402</td>\n",
       "      <td>1.442445</td>\n",
       "    </tr>\n",
       "    <tr>\n",
       "      <th>6</th>\n",
       "      <td>nPhotons</td>\n",
       "      <td>19.809282</td>\n",
       "      <td>51.500489</td>\n",
       "      <td>8.285051</td>\n",
       "      <td>21.206709</td>\n",
       "      <td>18.507506</td>\n",
       "      <td>1.978521</td>\n",
       "    </tr>\n",
       "    <tr>\n",
       "      <th>9</th>\n",
       "      <td>fixedGridRhoFastjetAll</td>\n",
       "      <td>29.044570</td>\n",
       "      <td>28.777295</td>\n",
       "      <td>21.656536</td>\n",
       "      <td>43.158282</td>\n",
       "      <td>25.691802</td>\n",
       "      <td>3.001046</td>\n",
       "    </tr>\n",
       "    <tr>\n",
       "      <th>10</th>\n",
       "      <td>fixedGridRhoFastjetAllCalo</td>\n",
       "      <td>44.791165</td>\n",
       "      <td>74.638211</td>\n",
       "      <td>50.730011</td>\n",
       "      <td>64.511994</td>\n",
       "      <td>30.178092</td>\n",
       "      <td>4.087972</td>\n",
       "    </tr>\n",
       "    <tr>\n",
       "      <th>11</th>\n",
       "      <td>fixedGridRhoFastjetCentral</td>\n",
       "      <td>14.570437</td>\n",
       "      <td>7.620213</td>\n",
       "      <td>11.199679</td>\n",
       "      <td>24.446701</td>\n",
       "      <td>19.084214</td>\n",
       "      <td>2.831691</td>\n",
       "    </tr>\n",
       "    <tr>\n",
       "      <th>13</th>\n",
       "      <td>fixedGridRhoFastjetCentralChargedPileUp</td>\n",
       "      <td>20.867727</td>\n",
       "      <td>9.497997</td>\n",
       "      <td>8.698688</td>\n",
       "      <td>18.885315</td>\n",
       "      <td>10.595129</td>\n",
       "      <td>2.646057</td>\n",
       "    </tr>\n",
       "  </tbody>\n",
       "</table>\n",
       "</div>"
      ],
      "text/plain": [
       "                                  Variables      Era B      Era C      Era D  \\\n",
       "0                                 nVertices  19.207756  13.691976  14.197424   \n",
       "1                             nGoodVertices  17.362580  16.792976  14.230482   \n",
       "4                           nChargedHadrons   8.877393   4.280075   4.228474   \n",
       "6                                  nPhotons  19.809282  51.500489   8.285051   \n",
       "9                    fixedGridRhoFastjetAll  29.044570  28.777295  21.656536   \n",
       "10               fixedGridRhoFastjetAllCalo  44.791165  74.638211  50.730011   \n",
       "11               fixedGridRhoFastjetCentral  14.570437   7.620213  11.199679   \n",
       "13  fixedGridRhoFastjetCentralChargedPileUp  20.867727   9.497997   8.698688   \n",
       "\n",
       "        Era E      Era F     Era G  \n",
       "0   14.412454  17.535799  3.209421  \n",
       "1   14.447247  20.604440  3.054253  \n",
       "4    8.757202  16.698402  1.442445  \n",
       "6   21.206709  18.507506  1.978521  \n",
       "9   43.158282  25.691802  3.001046  \n",
       "10  64.511994  30.178092  4.087972  \n",
       "11  24.446701  19.084214  2.831691  \n",
       "13  18.885315  10.595129  2.646057  "
      ]
     },
     "execution_count": 9,
     "metadata": {},
     "output_type": "execute_result"
    }
   ],
   "source": [
    "frame = {'Variables': Var ,\n",
    "         'Era B': rowSumsB ,\n",
    "         'Era C': rowSumsC ,\n",
    "         'Era D': rowSumsD ,\n",
    "         'Era E': rowSumsE ,\n",
    "         'Era F': rowSumsF ,\n",
    "         'Era G': rowSumsG ,\n",
    "        }\n",
    "\n",
    "result = pd.DataFrame(frame)\n",
    "result\n",
    "\n",
    "#pd.DataFrame(rowSumsB , rowSumsC , rowSumsD , rowSumsE , rowSumsF , rowSumsG).T"
   ]
  },
  {
   "cell_type": "code",
   "execution_count": 10,
   "id": "9a3fe15b",
   "metadata": {},
   "outputs": [
    {
     "data": {
      "image/png": "[encoded data removed]",
      "text/plain": [
       "<Figure size 2160x720 with 2 Axes>"
      ]
     },
     "metadata": {
      "needs_background": "light"
     },
     "output_type": "display_data"
    }
   ],
   "source": [
    "xLabels = result.columns[1:]\n",
    "yValues = result.iloc[:, 0]\n",
    "zValues = result.iloc[:,1:]\n",
    "\n",
    "\n",
    "x, y = np.meshgrid(range(len(xLabels)), range(len(yValues)))\n",
    "z = np.array(zValues)\n",
    "\n",
    "\n",
    "#xSum = np.meshgrid('Era {0}'.format(eraName))\n",
    "#rowSums = (result.iloc[:, 1:].sum(axis=1))/6\n",
    "#RS = np.array(rowSums)\n",
    "\n",
    "\n",
    "# Create TH2 colz plot\n",
    "fig = plt.figure(figsize=(30, 10))\n",
    "gs = gridspec.GridSpec(1, 2, width_ratios=[3, 1])\n",
    "\n",
    "# Plot the original data\n",
    "ax1 = plt.subplot()\n",
    "pcm = ax1.pcolormesh(x, y, z, cmap='Greens')\n",
    "plt.colorbar(pcm, ax=ax1, label='Values')\n",
    "\n",
    "\n",
    "ax1.set_xticks(range(len(xLabels)))\n",
    "ax1.set_yticks(range(len(yValues)))\n",
    "ax1.set_xticklabels(xLabels)\n",
    "ax1.set_yticklabels(yValues)\n",
    "\n",
    "ax1.set_xlabel('Eras')\n",
    "ax1.set_ylabel('Variables')\n",
    "ax1.set_title('log fit quality per Variables')\n",
    "\n",
    "plt.show()\n",
    "\n"
   ]
  },
  {
   "cell_type": "code",
   "execution_count": 11,
   "id": "7e72ae1e",
   "metadata": {},
   "outputs": [
    {
     "data": {
      "image/png": "[encoded data removed]",
      "text/plain": [
       "<Figure size 2160x720 with 2 Axes>"
      ]
     },
     "metadata": {
      "needs_background": "light"
     },
     "output_type": "display_data"
    }
   ],
   "source": [
    "# Assuming you have 'result' DataFrame defined\n",
    "\n",
    "xLabels = result.columns[1:]\n",
    "yValues = result.iloc[:, 0]\n",
    "zValues = result.iloc[:, 1:]\n",
    "\n",
    "x, y = np.meshgrid(range(len(xLabels)), range(len(yValues)))\n",
    "z = np.array(zValues)\n",
    "\n",
    "# Create TH2 colz plot with logarithmic scale\n",
    "fig = plt.figure(figsize=(30, 10))\n",
    "gs = gridspec.GridSpec(1, 2, width_ratios=[3, 1])\n",
    "\n",
    "# Plot the original data with logarithmic scale\n",
    "ax1 = plt.subplot(gs[0])\n",
    "pcm = ax1.pcolormesh(x, y, z, cmap='Greens', norm=LogNorm())\n",
    "plt.colorbar(pcm, ax=ax1, label='Values')\n",
    "\n",
    "ax1.set_xticks(range(len(xLabels)))\n",
    "ax1.set_yticks(range(len(yValues)))\n",
    "ax1.set_xticklabels(xLabels)\n",
    "ax1.set_yticklabels(yValues)\n",
    "\n",
    "ax1.set_xlabel('Eras')\n",
    "ax1.set_ylabel('Variables')\n",
    "ax1.set_title('Logarithmic fit quality per Variables')\n",
    "\n",
    "plt.show()\n"
   ]
  },
  {
   "cell_type": "code",
   "execution_count": null,
   "id": "906a5dec",
   "metadata": {},
   "outputs": [],
   "source": []
  }
 ],
 "metadata": {
  "@webio": {
   "lastCommId": null,
   "lastKernelId": null
  },
  "kernelspec": {
   "display_name": "Python 3",
   "language": "python",
   "name": "python3"
  },
  "language_info": {
   "codemirror_mode": {
    "name": "ipython",
    "version": 3
   },
   "file_extension": ".py",
   "mimetype": "text/x-python",
   "name": "python",
   "nbconvert_exporter": "python",
   "pygments_lexer": "ipython3",
   "version": "3.9.12"
  }
 },
 "nbformat": 4,
 "nbformat_minor": 5
}
