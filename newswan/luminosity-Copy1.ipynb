{
 "cells": [
  {
   "cell_type": "markdown",
   "id": "af2e1424",
   "metadata": {},
   "source": [
    "<center>\n",
    "    <img src=\"https://cds.cern.ch/record/1306150/files/cmsLogo_image.jpg\" width=\"300\" alt=\"cognitiveclass.ai logo\"  />\n",
    "    \n",
    "</center>\n",
    "\n",
    "# Pile Up Study at the CMS experiment in 2018"
   ]
  },
  {
   "cell_type": "markdown",
   "id": "6e1e65d0",
   "metadata": {},
   "source": [
    "### importing libraries and classes\n"
   ]
  },
  {
   "cell_type": "code",
   "execution_count": 1,
   "id": "31aa1a78",
   "metadata": {},
   "outputs": [],
   "source": [
    "from __future__ import annotations\n",
    "import uproot\n",
    "import warnings\n",
    "import sys\n",
    "if not sys.warnoptions:\n",
    "    warnings.simplefilter(\"ignore\")\n",
    "    \n",
    "import plotly\n",
    "import numpy as np\n",
    "import plotly.graph_objects as go\n",
    "import plotly.express as px\n",
    "import matplotlib.pyplot as plt\n",
    "\n",
    "\n",
    "from plotly.subplots import make_subplots\n",
    "from typing import overload\n",
    "from abc import ABC, abstractmethod\n",
    "import sympy\n",
    "from sympy.integrals.transforms import laplace_transform\n",
    "import random\n",
    "import math\n",
    "from tqdm.auto import tqdm, trange\n",
    "from concurrent.futures import ThreadPoolExecutor\n",
    "import scipy.stats as stats\n",
    "from scipy.optimize import curve_fit\n",
    "\n",
    "\n",
    "from Class1 import parametricValue\n",
    "\n",
    "    \n",
    "from Class1 import fixedValue\n",
    "\n",
    "\n",
    "from Class1 import parametricValueNumpy\n",
    "\n",
    "\n",
    "from Class1 import parametricValueSympy\n",
    "\n",
    "\n",
    "#these are important for me\n",
    "\n",
    "from Class1 import binning\n",
    "\n",
    "\n",
    "from Class1 import discretepdf\n",
    "\n",
    "\n",
    "from Class1 import NLL\n",
    "\n",
    "\n",
    "from Class1 import lumiDist\n",
    "\n",
    "\n",
    "from Class1 import lumiDistSympyLaplace\n",
    "\n",
    "\n",
    "from Class1 import lumiDistNumpy\n",
    "\n",
    "\n",
    "from Class1 import SimulationVSPu\n"
   ]
  },
  {
   "cell_type": "code",
   "execution_count": 2,
   "id": "43397eda",
   "metadata": {},
   "outputs": [],
   "source": [
    "from Class1 import RunInfo\n"
   ]
  },
  {
   "cell_type": "markdown",
   "id": "d32937bc",
   "metadata": {},
   "source": [
    "## choosing Runs and Eras"
   ]
  },
  {
   "cell_type": "code",
   "execution_count": 3,
   "id": "c940e723",
   "metadata": {},
   "outputs": [
    {
     "data": {
      "text/plain": [
       "['1', 'B', '5', 'A']"
      ]
     },
     "execution_count": 3,
     "metadata": {},
     "output_type": "execute_result"
    }
   ],
   "source": [
    "from allInfo import GetAllRuns, GetAllEras\n",
    "\n",
    "year =2018\n",
    "GetAllEras(year)"
   ]
  },
  {
   "cell_type": "code",
   "execution_count": 4,
   "id": "730a9022",
   "metadata": {},
   "outputs": [
    {
     "name": "stdout",
     "output_type": "stream",
     "text": [
      "A : [315257, 315259, 315264, 315265, 315267, 315270, 315322, 315339, 315357, 315361, 315363, 315366, 315420, 315488, 315489, 315490, 315506, 315510, 315512, 315543, 315555, 315556, 315557, 315640, 315641, 315642, 315644, 315645, 315646, 315647, 315648, 315689, 315690, 315702, 315703, 315704, 315705, 315713, 315721, 315741, 315764, 315770, 315784, 315785, 315786, 315790, 315800, 315801, 315840, 315973, 315974, 316058, 316059, 316060, 316061, 316062, 316082, 316110, 316111, 316113, 316114, 316153, 316186, 316187, 316199, 316200, 316201, 316202, 316216, 316217, 316218, 316219, 316239, 316240, 316241, 316271, 316361, 316362, 316363, 316377, 316378, 316379, 316380, 316455, 316457, 316469, 316470, 316472, 316505, 316569, 316590, 316613, 316615, 316666, 316667, 316700, 316701, 316702, 316715, 316716, 316717, 316718, 316719, 316720, 316721, 316722, 316723, 316758, 316766, 316876, 316877, 316879, 316928, 316985, 316993, 316994, 316995]\n",
      "B : [317080, 317087, 317089, 317182, 317212, 317213, 317279, 317291, 317292, 317297, 317319, 317320, 317338, 317339, 317340, 317382, 317383, 317391, 317392, 317435, 317438, 317475, 317478, 317484, 317488, 317527, 317591, 317626, 317640, 317641, 317648, 317649, 317650, 317661, 317663, 317683, 317696, 318828, 318872, 318874, 318876, 318877, 319077]\n"
     ]
    }
   ],
   "source": [
    "year =2018\n",
    "eras = ['A' , 'B']\n",
    "# for era in GetAllEras(year):\n",
    "for era in eras:\n",
    "    allRuns = sorted( list(set( GetAllRuns(year , era) ) ) )\n",
    "    print(era, ':' , allRuns)"
   ]
  },
  {
   "cell_type": "code",
   "execution_count": 5,
   "id": "9af46b73",
   "metadata": {},
   "outputs": [
    {
     "name": "stdout",
     "output_type": "stream",
     "text": [
      "era A has 117 runs\n",
      "era B has 43 runs\n"
     ]
    }
   ],
   "source": [
    "A_allRuns = sorted( list(set( GetAllRuns(2018 , 'A') ) ) )\n",
    "B_allRuns = sorted( list(set( GetAllRuns(2018 , 'B') ) ) )\n",
    "print('era A has {0} runs'.format(len(A_allRuns)))\n",
    "print('era B has {0} runs'.format(len(B_allRuns)))"
   ]
  },
  {
   "cell_type": "code",
   "execution_count": 6,
   "id": "df023518",
   "metadata": {},
   "outputs": [
    {
     "data": {
      "text/plain": [
       "[315557, 315640]"
      ]
     },
     "execution_count": 6,
     "metadata": {},
     "output_type": "execute_result"
    }
   ],
   "source": [
    "year , era = 2018 , 'A'\n",
    "allRuns = sorted( list(set( GetAllRuns(year , era) ) ) )\n",
    "allRuns = allRuns[22:24]\n",
    "allRuns"
   ]
  },
  {
   "cell_type": "code",
   "execution_count": 7,
   "id": "e4ca3ad6",
   "metadata": {},
   "outputs": [
    {
     "data": {
      "text/plain": [
       "'nRuns=5'"
      ]
     },
     "execution_count": 7,
     "metadata": {},
     "output_type": "execute_result"
    }
   ],
   "source": [
    "allRuns = sorted( list(set( GetAllRuns(year , era) ) ) )\n",
    "Runs = allRuns[23:28]\n",
    "if len(Runs) == 1:\n",
    "    ind = allRuns.index(Runs[0])\n",
    "    runName = 'RunNo:{0}'.format(ind+1)\n",
    "else:\n",
    "    runName = 'nRuns={0}'.format(len(Runs))\n",
    "runName"
   ]
  },
  {
   "cell_type": "markdown",
   "id": "aa8cd086",
   "metadata": {},
   "source": [
    "## Run Cell"
   ]
  },
  {
   "cell_type": "code",
   "execution_count": 8,
   "id": "817337d8",
   "metadata": {},
   "outputs": [],
   "source": [
    "web1 = '/eos/user/c/cmstandi/SWAN_projects/Nima/PUFit' # source directory\n",
    "web2 = '/eos/user/c/cmstandi/www/PU/newres/New' # publish directory\n",
    "\n",
    "#Experiment Number:\n",
    "expN = 1 # change this every time you want to run new feature. \n",
    "\n",
    "from pathlib import Path\n",
    "\n",
    "import sys\n",
    "sys.path.append('../nTuplizer')\n",
    "\n",
    "from allInfo import GetAllRuns, GetAllEras\n",
    "\n",
    "def export_graph(g , n , pname, pdir):\n",
    "    ghtml = g.to_html()\n",
    "    Path('{0}/{1}/'.format(pdir , pname) ).mkdir(parents=True, exist_ok=True)\n",
    "    with open('{0}/{1}/{2}.html'.format(pdir , pname , n) , 'w') as f:\n",
    "        f.write(ghtml)\n",
    "def publish_res(rinfo , gchi2 , vname ,  name , publish_dir):\n",
    "\n",
    "    \n",
    "    \n",
    "    \n",
    "    gg = rinfo.plot_lumi_distribution(subRuns=-1 , colorLumiScale=4 , density=False)\n",
    "    \n",
    "    # updated plot layout in Class1\n",
    "#     gg.update_layout(\n",
    "#         title=\"Distribution of BX luminosity\",\n",
    "#         xaxis_title='luminosity (1/mb 1/25ns)',\n",
    "#         yaxis_title=\"probability\",\n",
    "#         legend_title=\"Runs\",\n",
    "#     )\n",
    "    export_graph(gg , '01-lumi_distribution' , name , publish_dir)\n",
    "    \n",
    "    \n",
    "    \n",
    "    \n",
    "    #02-pu_distribution\n",
    "    \n",
    "    gg = rinfo.plotPUDists(70)\n",
    "    export_graph(gg , '02-pu_distribution' , name , publish_dir)\n",
    "    \n",
    "    \n",
    "    \n",
    "    \n",
    "    \n",
    "    #03-{vname}_distribution:\n",
    "    \n",
    "    if rinfo.parentRun is None:\n",
    "        gg = rinfo.plotDataDist(zoom=True)\n",
    "        export_graph(gg , '03-{0}_distribution'.format(vname) , name , publish_dir) \n",
    "\n",
    "    \n",
    "    \n",
    "    \n",
    "    #04-{vname}_predictions:\n",
    "\n",
    "    gg = rinfo.plotPredictions([60,65,75,80,90])\n",
    "    export_graph(gg , '04-{0}_predictions'.format(vname) , name , publish_dir)\n",
    "    \n",
    "        \n",
    "        \n",
    "        \n",
    "        \n",
    "    for _xsec in [60,65,75,80,90]:\n",
    "        gg = rinfo.plotRunPredictions(_xsec)\n",
    "        export_graph(gg , '05-{0}_predictions_xsec{1}'.format(vname , _xsec) , name , publish_dir)\n",
    "            \n",
    "    \n",
    "    \n",
    "    export_graph(gchi2 , '06-bestfit_details'  , name , publish_dir)\n",
    "    export_graph(rinfo.postFitPlots(), '07-postFit_plots'  , name , publish_dir)\n",
    "    export_graph(rinfo.pullPlots(50 , 1.3) , '08-pullPlots' , name , publish_dir)\n",
    "    export_graph(rinfo.NadjiehPullPlots(50 , 1.3) , '08-NadjiehPullPlots' , name , publish_dir)\n",
    "    \n",
    "    \n",
    "    \n",
    "    \n",
    "    \n",
    "    if rinfo.parentRun is None:\n",
    "        export_graph(rinfo.aggregateFitRes() , '09-summary1' , name ,publish_dir)\n",
    "        export_graph(rinfo.aggregateFitRes2() , '09-summary2' , name ,publish_dir)\n",
    "        export_graph(rinfo.aggregateFitRes3() , '09-summary3' , name ,publish_dir)\n",
    "        export_graph(rinfo.aggregateFitRes4() , '09-summary4' , name ,publish_dir)\n",
    "        \n",
    "        \n",
    "   \n",
    "rinfo = None\n",
    "        \n",
    "def process_and_publish(year , era , vname , vmin , vmax , vnbins , pu_max ,\n",
    "                        lumiName = 'PHYSICSDel' , \n",
    "#                         lumiQ =  np.array([0,0.2,0.6,1.0]) ,\n",
    "                        lumiQ =  np.array([0,1.0]) ,\n",
    "                        lnbins_per_q = 100 ,\n",
    "                        xsec = np.arange(30,100,1), nthreads = 30 , publish_dir = web2 ):\n",
    "    nbins = lumiQ.size -1\n",
    "  #  print(nbins)  \n",
    "    \n",
    "    #Runs\n",
    "    allRuns = sorted( list(set( GetAllRuns(year , era) ) ) )\n",
    "    Runs = allRuns[0:1]\n",
    "    if len(Runs) == 1:\n",
    "        ind = allRuns.index(Runs[0])\n",
    "        runName = 'RunNo:{0}'.format(ind+1)\n",
    "    else:\n",
    "        runName = 'nRuns={0}'.format(len(Runs))\n",
    "    runName\n",
    "    \n",
    "    \n",
    "    \n",
    "    head = 'expe={0}_{1}{2}_nLumiBins={3}_{4}'.format(expN,era, year,nbins , runName)\n",
    "    name = '{0}/{1}'.format(head, vname)\n",
    "    \n",
    "    \n",
    "    #00simulation plot:\n",
    "    \n",
    "    var_bins = np.linspace(vmin,vmax,vnbins+1)\n",
    "    simDist = SimulationVSPu(vname , year = year , var_bins=var_bins , pu_max=pu_max , nthreads=nthreads)\n",
    "\n",
    "\n",
    "    g = simDist.plot(param=1 , label = 'PU = 1')\n",
    "    for i in range(10,90+1,10):\n",
    "        theName = 'PU = {0}'.format(i)\n",
    "        simDist.plot(param=i , g=g , \n",
    "                     scatterOpts={ 'name':theName}\n",
    "                    )\n",
    "\n",
    "    g.update_layout(\n",
    "        title=\"Simulated distribution for PU \",\n",
    "        xaxis_title= vname,\n",
    "        yaxis_title=\"probability\",\n",
    "        legend_title=\"PU number\",\n",
    "    )    \n",
    "    export_graph(g , '00-Simulation' , name , publish_dir )\n",
    "    \n",
    "    \n",
    "    \n",
    "    \n",
    "\n",
    "    \n",
    "    \n",
    "    \n",
    "    print('is going to run over {0} runs'.format( len(Runs)) )\n",
    "    print('Number of Lumi Bins = {0}'.format(nbins))\n",
    "\n",
    "    \n",
    "    rinfo = RunInfo(0 , vname , var_bins , lumiName ,lumiQ , nbins_perq=lnbins_per_q , sub_runs=Runs , \n",
    "                    nthreads=nthreads , xsecs = xsec)\n",
    "    \n",
    "    rinfo.setSimulation(simDist)\n",
    "    gchi2 = rinfo.fit()\n",
    "    \n",
    "#     print(vname)\n",
    "#     print(var_bins)\n",
    "#     print(lumiName)\n",
    "#     print(lumiQ)\n",
    "#     print(lnbins_per_q)\n",
    "    \n",
    "    try:\n",
    "        \n",
    "        publish_res(rinfo , gchi2 , vname , name , publish_dir)\n",
    "        for sr in rinfo._subRuns : #+ rinfo._subRunsSameLumiBins:\n",
    "            #ext = '/SRSimilarBinning' if sr._isSecondHand else '/SRSameBinning'\n",
    "            publish_res(sr , None , vname , vname , '{0}/{1}/Runs/Run{2}'.format(publish_dir , head , sr.run) )\n",
    "    except Exception as e:\n",
    "        print(e)\n",
    "        return head, rinfo\n",
    "\n",
    "    #del rinfo\n",
    "    #del simDist\n",
    "    \n",
    "\n",
    "    return head, rinfo\n",
    " \n",
    "\n",
    "    "
   ]
  },
  {
   "cell_type": "code",
   "execution_count": null,
   "id": "c6d65bd9",
   "metadata": {
    "scrolled": true
   },
   "outputs": [
    {
     "data": {
      "application/vnd.jupyter.widget-view+json": {
       "model_id": "61ed25450999418eb0a952ec18c3a90a",
       "version_major": 2,
       "version_minor": 0
      },
      "text/plain": [
       "  0%|          | 0/92 [00:00<?, ?it/s, SIMULATION]"
      ]
     },
     "metadata": {},
     "output_type": "display_data"
    },
    {
     "name": "stdout",
     "output_type": "stream",
     "text": [
      "is going to run over 1 runs\n",
      "Number of Lumi Bins = 1\n"
     ]
    },
    {
     "data": {
      "application/vnd.jupyter.widget-view+json": {
       "model_id": "a6527548282c43068179db705be0c9be",
       "version_major": 2,
       "version_minor": 0
      },
      "text/plain": [
       "  0%|          | 0/7 [00:00<?, ?it/s, RUN 0]"
      ]
     },
     "metadata": {},
     "output_type": "display_data"
    },
    {
     "data": {
      "application/vnd.jupyter.widget-view+json": {
       "model_id": "3793479e9b0441bc94ab0c5c13e96da6",
       "version_major": 2,
       "version_minor": 0
      },
      "text/plain": [
       "  0%|          | 0/5 [00:00<?, ?it/s, RUN 317080]"
      ]
     },
     "metadata": {},
     "output_type": "display_data"
    },
    {
     "data": {
      "application/vnd.jupyter.widget-view+json": {
       "model_id": "b3e6cbc8bbf040ab810853c5848d8989",
       "version_major": 2,
       "version_minor": 0
      },
      "text/plain": [
       "  0%|          | 0/5 [00:00<?, ?it/s, RUN 317080]"
      ]
     },
     "metadata": {},
     "output_type": "display_data"
    },
    {
     "data": {
      "application/vnd.jupyter.widget-view+json": {
       "model_id": "9dcb53ca3578472ea07e4ac4366cd82e",
       "version_major": 2,
       "version_minor": 0
      },
      "text/plain": [
       "  0%|          | 0/3 [00:00<?, ?it/s, RUN 0]"
      ]
     },
     "metadata": {},
     "output_type": "display_data"
    },
    {
     "data": {
      "application/vnd.jupyter.widget-view+json": {
       "model_id": "32c9a1470ea44d149b749354da113dad",
       "version_major": 2,
       "version_minor": 0
      },
      "text/plain": [
       "  0%|          | 0/1 [00:00<?, ?it/s, RUN 317080]"
      ]
     },
     "metadata": {},
     "output_type": "display_data"
    },
    {
     "data": {
      "application/vnd.jupyter.widget-view+json": {
       "model_id": "36c93b9dbf6143af8a6cb234a2cb1254",
       "version_major": 2,
       "version_minor": 0
      },
      "text/plain": [
       "  0%|          | 0/1 [00:00<?, ?it/s, RUN 317080]"
      ]
     },
     "metadata": {},
     "output_type": "display_data"
    },
    {
     "data": {
      "application/vnd.jupyter.widget-view+json": {
       "model_id": "5c6c017c302f44cd98a54d3c149a86fd",
       "version_major": 2,
       "version_minor": 0
      },
      "text/plain": [
       "  0%|          | 0/3 [00:00<?, ?it/s, RUN 0]"
      ]
     },
     "metadata": {},
     "output_type": "display_data"
    },
    {
     "name": "stdout",
     "output_type": "stream",
     "text": [
      "In order to reference traces by row and column, you must first use plotly.tools.make_subplots to create the figure with a subplot grid.\n"
     ]
    },
    {
     "data": {
      "application/vnd.jupyter.widget-view+json": {
       "model_id": "93e9a350590347f888452e317fa4c799",
       "version_major": 2,
       "version_minor": 0
      },
      "text/plain": [
       "  0%|          | 0/92 [00:00<?, ?it/s, SIMULATION]"
      ]
     },
     "metadata": {},
     "output_type": "display_data"
    },
    {
     "name": "stdout",
     "output_type": "stream",
     "text": [
      "is going to run over 1 runs\n",
      "Number of Lumi Bins = 1\n"
     ]
    },
    {
     "data": {
      "application/vnd.jupyter.widget-view+json": {
       "model_id": "86848410e0494c1b86abb5a843c1fa6a",
       "version_major": 2,
       "version_minor": 0
      },
      "text/plain": [
       "  0%|          | 0/7 [00:00<?, ?it/s, RUN 0]"
      ]
     },
     "metadata": {},
     "output_type": "display_data"
    },
    {
     "data": {
      "application/vnd.jupyter.widget-view+json": {
       "model_id": "9d30c51e45b343c996a563447834d4f8",
       "version_major": 2,
       "version_minor": 0
      },
      "text/plain": [
       "  0%|          | 0/5 [00:00<?, ?it/s, RUN 317080]"
      ]
     },
     "metadata": {},
     "output_type": "display_data"
    },
    {
     "data": {
      "application/vnd.jupyter.widget-view+json": {
       "model_id": "df5a54d1dd194be096f5722d52ef96c7",
       "version_major": 2,
       "version_minor": 0
      },
      "text/plain": [
       "  0%|          | 0/5 [00:00<?, ?it/s, RUN 317080]"
      ]
     },
     "metadata": {},
     "output_type": "display_data"
    },
    {
     "data": {
      "application/vnd.jupyter.widget-view+json": {
       "model_id": "35822b48e28a403fa44d7ca3ec3c8b15",
       "version_major": 2,
       "version_minor": 0
      },
      "text/plain": [
       "  0%|          | 0/3 [00:00<?, ?it/s, RUN 0]"
      ]
     },
     "metadata": {},
     "output_type": "display_data"
    },
    {
     "data": {
      "application/vnd.jupyter.widget-view+json": {
       "model_id": "dd948a4a85774ff6aee510392486d84d",
       "version_major": 2,
       "version_minor": 0
      },
      "text/plain": [
       "  0%|          | 0/1 [00:00<?, ?it/s, RUN 317080]"
      ]
     },
     "metadata": {},
     "output_type": "display_data"
    },
    {
     "data": {
      "application/vnd.jupyter.widget-view+json": {
       "model_id": "9e27d6d024d2421a91f915c08645941f",
       "version_major": 2,
       "version_minor": 0
      },
      "text/plain": [
       "  0%|          | 0/1 [00:00<?, ?it/s, RUN 317080]"
      ]
     },
     "metadata": {},
     "output_type": "display_data"
    },
    {
     "data": {
      "application/vnd.jupyter.widget-view+json": {
       "model_id": "49148c8cf57e402b85fb336086fb69d9",
       "version_major": 2,
       "version_minor": 0
      },
      "text/plain": [
       "  0%|          | 0/3 [00:00<?, ?it/s, RUN 0]"
      ]
     },
     "metadata": {},
     "output_type": "display_data"
    },
    {
     "name": "stdout",
     "output_type": "stream",
     "text": [
      "In order to reference traces by row and column, you must first use plotly.tools.make_subplots to create the figure with a subplot grid.\n"
     ]
    },
    {
     "data": {
      "application/vnd.jupyter.widget-view+json": {
       "model_id": "f877807a50bc4e47b3c44bb5714a259c",
       "version_major": 2,
       "version_minor": 0
      },
      "text/plain": [
       "  0%|          | 0/92 [00:00<?, ?it/s, SIMULATION]"
      ]
     },
     "metadata": {},
     "output_type": "display_data"
    },
    {
     "name": "stdout",
     "output_type": "stream",
     "text": [
      "is going to run over 1 runs\n",
      "Number of Lumi Bins = 1\n"
     ]
    },
    {
     "data": {
      "application/vnd.jupyter.widget-view+json": {
       "model_id": "0e63ac549ab940dfaa89ae567505dffa",
       "version_major": 2,
       "version_minor": 0
      },
      "text/plain": [
       "  0%|          | 0/7 [00:00<?, ?it/s, RUN 0]"
      ]
     },
     "metadata": {},
     "output_type": "display_data"
    },
    {
     "data": {
      "application/vnd.jupyter.widget-view+json": {
       "model_id": "4c145f837ce9419a913cb20eda3576e5",
       "version_major": 2,
       "version_minor": 0
      },
      "text/plain": [
       "  0%|          | 0/5 [00:00<?, ?it/s, RUN 317080]"
      ]
     },
     "metadata": {},
     "output_type": "display_data"
    },
    {
     "data": {
      "application/vnd.jupyter.widget-view+json": {
       "model_id": "76ed46deaeae44209cfa64f2b58f8845",
       "version_major": 2,
       "version_minor": 0
      },
      "text/plain": [
       "  0%|          | 0/5 [00:00<?, ?it/s, RUN 317080]"
      ]
     },
     "metadata": {},
     "output_type": "display_data"
    },
    {
     "data": {
      "application/vnd.jupyter.widget-view+json": {
       "model_id": "7acd593d5a0c46b88a18a95d601d0134",
       "version_major": 2,
       "version_minor": 0
      },
      "text/plain": [
       "  0%|          | 0/3 [00:00<?, ?it/s, RUN 0]"
      ]
     },
     "metadata": {},
     "output_type": "display_data"
    },
    {
     "data": {
      "application/vnd.jupyter.widget-view+json": {
       "model_id": "d88a3397a1894affba5fb0118f78e64d",
       "version_major": 2,
       "version_minor": 0
      },
      "text/plain": [
       "  0%|          | 0/1 [00:00<?, ?it/s, RUN 317080]"
      ]
     },
     "metadata": {},
     "output_type": "display_data"
    },
    {
     "data": {
      "application/vnd.jupyter.widget-view+json": {
       "model_id": "7a9832452575460ba067a0488cec8eae",
       "version_major": 2,
       "version_minor": 0
      },
      "text/plain": [
       "  0%|          | 0/1 [00:00<?, ?it/s, RUN 317080]"
      ]
     },
     "metadata": {},
     "output_type": "display_data"
    },
    {
     "data": {
      "application/vnd.jupyter.widget-view+json": {
       "model_id": "8e66bf8f84744795831b704c1043b4e9",
       "version_major": 2,
       "version_minor": 0
      },
      "text/plain": [
       "  0%|          | 0/3 [00:00<?, ?it/s, RUN 0]"
      ]
     },
     "metadata": {},
     "output_type": "display_data"
    },
    {
     "name": "stdout",
     "output_type": "stream",
     "text": [
      "In order to reference traces by row and column, you must first use plotly.tools.make_subplots to create the figure with a subplot grid.\n"
     ]
    },
    {
     "data": {
      "application/vnd.jupyter.widget-view+json": {
       "model_id": "296d78589ab6470c96ea3ae9c2d1f3cc",
       "version_major": 2,
       "version_minor": 0
      },
      "text/plain": [
       "  0%|          | 0/92 [00:00<?, ?it/s, SIMULATION]"
      ]
     },
     "metadata": {},
     "output_type": "display_data"
    },
    {
     "name": "stdout",
     "output_type": "stream",
     "text": [
      "is going to run over 1 runs\n",
      "Number of Lumi Bins = 1\n"
     ]
    },
    {
     "data": {
      "application/vnd.jupyter.widget-view+json": {
       "model_id": "357a8adf61b74b09bb1e662c49a89108",
       "version_major": 2,
       "version_minor": 0
      },
      "text/plain": [
       "  0%|          | 0/7 [00:00<?, ?it/s, RUN 0]"
      ]
     },
     "metadata": {},
     "output_type": "display_data"
    },
    {
     "data": {
      "application/vnd.jupyter.widget-view+json": {
       "model_id": "2dbc0150e8964708ad27557f0c2b7e32",
       "version_major": 2,
       "version_minor": 0
      },
      "text/plain": [
       "  0%|          | 0/5 [00:00<?, ?it/s, RUN 317080]"
      ]
     },
     "metadata": {},
     "output_type": "display_data"
    },
    {
     "data": {
      "application/vnd.jupyter.widget-view+json": {
       "model_id": "7f64aca738b047df9a37cad4539355a2",
       "version_major": 2,
       "version_minor": 0
      },
      "text/plain": [
       "  0%|          | 0/5 [00:00<?, ?it/s, RUN 317080]"
      ]
     },
     "metadata": {},
     "output_type": "display_data"
    },
    {
     "data": {
      "application/vnd.jupyter.widget-view+json": {
       "model_id": "63007115e882458ab32c60bd9e78169a",
       "version_major": 2,
       "version_minor": 0
      },
      "text/plain": [
       "  0%|          | 0/3 [00:00<?, ?it/s, RUN 0]"
      ]
     },
     "metadata": {},
     "output_type": "display_data"
    },
    {
     "data": {
      "application/vnd.jupyter.widget-view+json": {
       "model_id": "b0cd732034ce4bebb89c459928aa7b71",
       "version_major": 2,
       "version_minor": 0
      },
      "text/plain": [
       "  0%|          | 0/1 [00:00<?, ?it/s, RUN 317080]"
      ]
     },
     "metadata": {},
     "output_type": "display_data"
    },
    {
     "data": {
      "application/vnd.jupyter.widget-view+json": {
       "model_id": "44a9686c20604f13b035c17f385958b4",
       "version_major": 2,
       "version_minor": 0
      },
      "text/plain": [
       "  0%|          | 0/1 [00:00<?, ?it/s, RUN 317080]"
      ]
     },
     "metadata": {},
     "output_type": "display_data"
    },
    {
     "data": {
      "application/vnd.jupyter.widget-view+json": {
       "model_id": "fad25e5ed9a548a596391a48d8759444",
       "version_major": 2,
       "version_minor": 0
      },
      "text/plain": [
       "  0%|          | 0/3 [00:00<?, ?it/s, RUN 0]"
      ]
     },
     "metadata": {},
     "output_type": "display_data"
    },
    {
     "name": "stdout",
     "output_type": "stream",
     "text": [
      "In order to reference traces by row and column, you must first use plotly.tools.make_subplots to create the figure with a subplot grid.\n"
     ]
    },
    {
     "data": {
      "application/vnd.jupyter.widget-view+json": {
       "model_id": "2995132e00de46f8b80940ea40b5afe6",
       "version_major": 2,
       "version_minor": 0
      },
      "text/plain": [
       "  0%|          | 0/92 [00:00<?, ?it/s, SIMULATION]"
      ]
     },
     "metadata": {},
     "output_type": "display_data"
    },
    {
     "name": "stdout",
     "output_type": "stream",
     "text": [
      "is going to run over 1 runs\n",
      "Number of Lumi Bins = 1\n"
     ]
    },
    {
     "data": {
      "application/vnd.jupyter.widget-view+json": {
       "model_id": "8780d03d24154849840f3ca25aef6154",
       "version_major": 2,
       "version_minor": 0
      },
      "text/plain": [
       "  0%|          | 0/7 [00:00<?, ?it/s, RUN 0]"
      ]
     },
     "metadata": {},
     "output_type": "display_data"
    },
    {
     "data": {
      "application/vnd.jupyter.widget-view+json": {
       "model_id": "69a2b82401eb478087f3ba01c06cd932",
       "version_major": 2,
       "version_minor": 0
      },
      "text/plain": [
       "  0%|          | 0/5 [00:00<?, ?it/s, RUN 317080]"
      ]
     },
     "metadata": {},
     "output_type": "display_data"
    },
    {
     "data": {
      "application/vnd.jupyter.widget-view+json": {
       "model_id": "dcc48581277f48f68a416a9844b826df",
       "version_major": 2,
       "version_minor": 0
      },
      "text/plain": [
       "  0%|          | 0/5 [00:00<?, ?it/s, RUN 317080]"
      ]
     },
     "metadata": {},
     "output_type": "display_data"
    },
    {
     "data": {
      "application/vnd.jupyter.widget-view+json": {
       "model_id": "6f9096a5e58746458b96bbfcee272ba1",
       "version_major": 2,
       "version_minor": 0
      },
      "text/plain": [
       "  0%|          | 0/3 [00:00<?, ?it/s, RUN 0]"
      ]
     },
     "metadata": {},
     "output_type": "display_data"
    },
    {
     "data": {
      "application/vnd.jupyter.widget-view+json": {
       "model_id": "82404b65f2b8405caf6080348044e956",
       "version_major": 2,
       "version_minor": 0
      },
      "text/plain": [
       "  0%|          | 0/1 [00:00<?, ?it/s, RUN 317080]"
      ]
     },
     "metadata": {},
     "output_type": "display_data"
    },
    {
     "data": {
      "application/vnd.jupyter.widget-view+json": {
       "model_id": "31ad31a67a394e08ab7418955717912f",
       "version_major": 2,
       "version_minor": 0
      },
      "text/plain": [
       "  0%|          | 0/1 [00:00<?, ?it/s, RUN 317080]"
      ]
     },
     "metadata": {},
     "output_type": "display_data"
    },
    {
     "data": {
      "application/vnd.jupyter.widget-view+json": {
       "model_id": "7f401bbb72a446b78f9d1d6256ef1193",
       "version_major": 2,
       "version_minor": 0
      },
      "text/plain": [
       "  0%|          | 0/3 [00:00<?, ?it/s, RUN 0]"
      ]
     },
     "metadata": {},
     "output_type": "display_data"
    },
    {
     "name": "stdout",
     "output_type": "stream",
     "text": [
      "In order to reference traces by row and column, you must first use plotly.tools.make_subplots to create the figure with a subplot grid.\n"
     ]
    },
    {
     "data": {
      "application/vnd.jupyter.widget-view+json": {
       "model_id": "2f71e83e95ef4935adbbdfa6b4e930b6",
       "version_major": 2,
       "version_minor": 0
      },
      "text/plain": [
       "  0%|          | 0/92 [00:00<?, ?it/s, SIMULATION]"
      ]
     },
     "metadata": {},
     "output_type": "display_data"
    },
    {
     "name": "stdout",
     "output_type": "stream",
     "text": [
      "is going to run over 1 runs\n",
      "Number of Lumi Bins = 1\n"
     ]
    },
    {
     "data": {
      "application/vnd.jupyter.widget-view+json": {
       "model_id": "876f66aa06d24c039f726371db614599",
       "version_major": 2,
       "version_minor": 0
      },
      "text/plain": [
       "  0%|          | 0/7 [00:00<?, ?it/s, RUN 0]"
      ]
     },
     "metadata": {},
     "output_type": "display_data"
    },
    {
     "data": {
      "application/vnd.jupyter.widget-view+json": {
       "model_id": "1fd723ee73d6481ea121aec83ce6ed39",
       "version_major": 2,
       "version_minor": 0
      },
      "text/plain": [
       "  0%|          | 0/5 [00:00<?, ?it/s, RUN 317080]"
      ]
     },
     "metadata": {},
     "output_type": "display_data"
    },
    {
     "data": {
      "application/vnd.jupyter.widget-view+json": {
       "model_id": "553aea87f3a1477d8860c4ecb10c127d",
       "version_major": 2,
       "version_minor": 0
      },
      "text/plain": [
       "  0%|          | 0/5 [00:00<?, ?it/s, RUN 317080]"
      ]
     },
     "metadata": {},
     "output_type": "display_data"
    },
    {
     "data": {
      "application/vnd.jupyter.widget-view+json": {
       "model_id": "69fab52567db44dc8f774102f4cd38a5",
       "version_major": 2,
       "version_minor": 0
      },
      "text/plain": [
       "  0%|          | 0/3 [00:00<?, ?it/s, RUN 0]"
      ]
     },
     "metadata": {},
     "output_type": "display_data"
    },
    {
     "data": {
      "application/vnd.jupyter.widget-view+json": {
       "model_id": "475690dca35047cba5a162c8c5309b0a",
       "version_major": 2,
       "version_minor": 0
      },
      "text/plain": [
       "  0%|          | 0/1 [00:00<?, ?it/s, RUN 317080]"
      ]
     },
     "metadata": {},
     "output_type": "display_data"
    },
    {
     "data": {
      "application/vnd.jupyter.widget-view+json": {
       "model_id": "8aaeac9d0cd145b1bfa1cd3a15244668",
       "version_major": 2,
       "version_minor": 0
      },
      "text/plain": [
       "  0%|          | 0/1 [00:00<?, ?it/s, RUN 317080]"
      ]
     },
     "metadata": {},
     "output_type": "display_data"
    },
    {
     "data": {
      "application/vnd.jupyter.widget-view+json": {
       "model_id": "5d439c91c7124e64a392cbb254ba20cc",
       "version_major": 2,
       "version_minor": 0
      },
      "text/plain": [
       "  0%|          | 0/3 [00:00<?, ?it/s, RUN 0]"
      ]
     },
     "metadata": {},
     "output_type": "display_data"
    },
    {
     "name": "stdout",
     "output_type": "stream",
     "text": [
      "In order to reference traces by row and column, you must first use plotly.tools.make_subplots to create the figure with a subplot grid.\n"
     ]
    },
    {
     "data": {
      "application/vnd.jupyter.widget-view+json": {
       "model_id": "80c7d1fc7b7c4794bf425203169c9ff2",
       "version_major": 2,
       "version_minor": 0
      },
      "text/plain": [
       "  0%|          | 0/92 [00:00<?, ?it/s, SIMULATION]"
      ]
     },
     "metadata": {},
     "output_type": "display_data"
    },
    {
     "name": "stdout",
     "output_type": "stream",
     "text": [
      "is going to run over 1 runs\n",
      "Number of Lumi Bins = 1\n"
     ]
    },
    {
     "data": {
      "application/vnd.jupyter.widget-view+json": {
       "model_id": "47e0dbcece784c38a3947e2afea78ddd",
       "version_major": 2,
       "version_minor": 0
      },
      "text/plain": [
       "  0%|          | 0/7 [00:00<?, ?it/s, RUN 0]"
      ]
     },
     "metadata": {},
     "output_type": "display_data"
    },
    {
     "data": {
      "application/vnd.jupyter.widget-view+json": {
       "model_id": "f9d1475c067c474ab75f98445757b122",
       "version_major": 2,
       "version_minor": 0
      },
      "text/plain": [
       "  0%|          | 0/5 [00:00<?, ?it/s, RUN 317080]"
      ]
     },
     "metadata": {},
     "output_type": "display_data"
    },
    {
     "data": {
      "application/vnd.jupyter.widget-view+json": {
       "model_id": "98cbd12eede74eeb90b2f0946b5cf78b",
       "version_major": 2,
       "version_minor": 0
      },
      "text/plain": [
       "  0%|          | 0/5 [00:00<?, ?it/s, RUN 317080]"
      ]
     },
     "metadata": {},
     "output_type": "display_data"
    },
    {
     "data": {
      "application/vnd.jupyter.widget-view+json": {
       "model_id": "f681b6d06faa47659bd042d35db5f066",
       "version_major": 2,
       "version_minor": 0
      },
      "text/plain": [
       "  0%|          | 0/3 [00:00<?, ?it/s, RUN 0]"
      ]
     },
     "metadata": {},
     "output_type": "display_data"
    },
    {
     "data": {
      "application/vnd.jupyter.widget-view+json": {
       "model_id": "0d9d83dd9cae4432b1dfe7fcdbae9a8f",
       "version_major": 2,
       "version_minor": 0
      },
      "text/plain": [
       "  0%|          | 0/1 [00:00<?, ?it/s, RUN 317080]"
      ]
     },
     "metadata": {},
     "output_type": "display_data"
    },
    {
     "data": {
      "application/vnd.jupyter.widget-view+json": {
       "model_id": "8f5f81ed55e44ce49a6df8b2a94e36b6",
       "version_major": 2,
       "version_minor": 0
      },
      "text/plain": [
       "  0%|          | 0/1 [00:00<?, ?it/s, RUN 317080]"
      ]
     },
     "metadata": {},
     "output_type": "display_data"
    },
    {
     "data": {
      "application/vnd.jupyter.widget-view+json": {
       "model_id": "874bae5354a94ece8479cf7de1206b78",
       "version_major": 2,
       "version_minor": 0
      },
      "text/plain": [
       "  0%|          | 0/3 [00:00<?, ?it/s, RUN 0]"
      ]
     },
     "metadata": {},
     "output_type": "display_data"
    },
    {
     "name": "stdout",
     "output_type": "stream",
     "text": [
      "In order to reference traces by row and column, you must first use plotly.tools.make_subplots to create the figure with a subplot grid.\n"
     ]
    },
    {
     "data": {
      "application/vnd.jupyter.widget-view+json": {
       "model_id": "811d3dbb3d0a4c77b0ea6cafc431e98b",
       "version_major": 2,
       "version_minor": 0
      },
      "text/plain": [
       "  0%|          | 0/92 [00:00<?, ?it/s, SIMULATION]"
      ]
     },
     "metadata": {},
     "output_type": "display_data"
    },
    {
     "name": "stdout",
     "output_type": "stream",
     "text": [
      "is going to run over 1 runs\n",
      "Number of Lumi Bins = 1\n"
     ]
    },
    {
     "data": {
      "application/vnd.jupyter.widget-view+json": {
       "model_id": "a1e81c3bdf8d43f3a39ec21cea95d292",
       "version_major": 2,
       "version_minor": 0
      },
      "text/plain": [
       "  0%|          | 0/7 [00:00<?, ?it/s, RUN 0]"
      ]
     },
     "metadata": {},
     "output_type": "display_data"
    },
    {
     "data": {
      "application/vnd.jupyter.widget-view+json": {
       "model_id": "5a1928064f0a40e5bbf4a4f7770788ab",
       "version_major": 2,
       "version_minor": 0
      },
      "text/plain": [
       "  0%|          | 0/5 [00:00<?, ?it/s, RUN 317080]"
      ]
     },
     "metadata": {},
     "output_type": "display_data"
    },
    {
     "data": {
      "application/vnd.jupyter.widget-view+json": {
       "model_id": "2ecee83a9b2a4594b3c138cd38d3f014",
       "version_major": 2,
       "version_minor": 0
      },
      "text/plain": [
       "  0%|          | 0/5 [00:00<?, ?it/s, RUN 317080]"
      ]
     },
     "metadata": {},
     "output_type": "display_data"
    },
    {
     "data": {
      "application/vnd.jupyter.widget-view+json": {
       "model_id": "d6e780f14bf94c8cb3c69d61d34d195a",
       "version_major": 2,
       "version_minor": 0
      },
      "text/plain": [
       "  0%|          | 0/3 [00:00<?, ?it/s, RUN 0]"
      ]
     },
     "metadata": {},
     "output_type": "display_data"
    },
    {
     "data": {
      "application/vnd.jupyter.widget-view+json": {
       "model_id": "602bd5d14c33495697eeed2d190f7ba7",
       "version_major": 2,
       "version_minor": 0
      },
      "text/plain": [
       "  0%|          | 0/1 [00:00<?, ?it/s, RUN 317080]"
      ]
     },
     "metadata": {},
     "output_type": "display_data"
    },
    {
     "data": {
      "application/vnd.jupyter.widget-view+json": {
       "model_id": "1b8dfbdc723b490ba3a04cf5e9ed2ab0",
       "version_major": 2,
       "version_minor": 0
      },
      "text/plain": [
       "  0%|          | 0/1 [00:00<?, ?it/s, RUN 317080]"
      ]
     },
     "metadata": {},
     "output_type": "display_data"
    },
    {
     "data": {
      "application/vnd.jupyter.widget-view+json": {
       "model_id": "312105fe17054540adfe6e5c74133826",
       "version_major": 2,
       "version_minor": 0
      },
      "text/plain": [
       "  0%|          | 0/3 [00:00<?, ?it/s, RUN 0]"
      ]
     },
     "metadata": {},
     "output_type": "display_data"
    },
    {
     "name": "stdout",
     "output_type": "stream",
     "text": [
      "In order to reference traces by row and column, you must first use plotly.tools.make_subplots to create the figure with a subplot grid.\n"
     ]
    },
    {
     "data": {
      "application/vnd.jupyter.widget-view+json": {
       "model_id": "514522716bf14869b95e1d193fe0df90",
       "version_major": 2,
       "version_minor": 0
      },
      "text/plain": [
       "  0%|          | 0/92 [00:00<?, ?it/s, SIMULATION]"
      ]
     },
     "metadata": {},
     "output_type": "display_data"
    },
    {
     "name": "stdout",
     "output_type": "stream",
     "text": [
      "is going to run over 1 runs\n",
      "Number of Lumi Bins = 1\n"
     ]
    },
    {
     "data": {
      "application/vnd.jupyter.widget-view+json": {
       "model_id": "eb895ad5954f4a1183c697d78402e5d6",
       "version_major": 2,
       "version_minor": 0
      },
      "text/plain": [
       "  0%|          | 0/7 [00:00<?, ?it/s, RUN 0]"
      ]
     },
     "metadata": {},
     "output_type": "display_data"
    },
    {
     "data": {
      "application/vnd.jupyter.widget-view+json": {
       "model_id": "54a12f532c944baba9048362e65dd3a9",
       "version_major": 2,
       "version_minor": 0
      },
      "text/plain": [
       "  0%|          | 0/5 [00:00<?, ?it/s, RUN 317080]"
      ]
     },
     "metadata": {},
     "output_type": "display_data"
    },
    {
     "data": {
      "application/vnd.jupyter.widget-view+json": {
       "model_id": "84444ce13cfa46b8a8eb40f3d24d3a4d",
       "version_major": 2,
       "version_minor": 0
      },
      "text/plain": [
       "  0%|          | 0/5 [00:00<?, ?it/s, RUN 317080]"
      ]
     },
     "metadata": {},
     "output_type": "display_data"
    },
    {
     "data": {
      "application/vnd.jupyter.widget-view+json": {
       "model_id": "3c602273ebf84b0f9ba78a6c6bf7bde1",
       "version_major": 2,
       "version_minor": 0
      },
      "text/plain": [
       "  0%|          | 0/3 [00:00<?, ?it/s, RUN 0]"
      ]
     },
     "metadata": {},
     "output_type": "display_data"
    },
    {
     "data": {
      "application/vnd.jupyter.widget-view+json": {
       "model_id": "f407f137a3e14a7c9f38e54edeaa0beb",
       "version_major": 2,
       "version_minor": 0
      },
      "text/plain": [
       "  0%|          | 0/1 [00:00<?, ?it/s, RUN 317080]"
      ]
     },
     "metadata": {},
     "output_type": "display_data"
    },
    {
     "data": {
      "application/vnd.jupyter.widget-view+json": {
       "model_id": "8f29838254764587ac58bd5a097ad089",
       "version_major": 2,
       "version_minor": 0
      },
      "text/plain": [
       "  0%|          | 0/1 [00:00<?, ?it/s, RUN 317080]"
      ]
     },
     "metadata": {},
     "output_type": "display_data"
    },
    {
     "data": {
      "application/vnd.jupyter.widget-view+json": {
       "model_id": "709d5b562bcf472eb7178b64c05b8f8f",
       "version_major": 2,
       "version_minor": 0
      },
      "text/plain": [
       "  0%|          | 0/3 [00:00<?, ?it/s, RUN 0]"
      ]
     },
     "metadata": {},
     "output_type": "display_data"
    },
    {
     "name": "stdout",
     "output_type": "stream",
     "text": [
      "In order to reference traces by row and column, you must first use plotly.tools.make_subplots to create the figure with a subplot grid.\n"
     ]
    },
    {
     "data": {
      "application/vnd.jupyter.widget-view+json": {
       "model_id": "c09f6fbfc16c489fbef2e3828cb8dc0c",
       "version_major": 2,
       "version_minor": 0
      },
      "text/plain": [
       "  0%|          | 0/92 [00:00<?, ?it/s, SIMULATION]"
      ]
     },
     "metadata": {},
     "output_type": "display_data"
    },
    {
     "name": "stdout",
     "output_type": "stream",
     "text": [
      "is going to run over 1 runs\n",
      "Number of Lumi Bins = 1\n"
     ]
    },
    {
     "data": {
      "application/vnd.jupyter.widget-view+json": {
       "model_id": "f301959d259f447fb48d76905e62650e",
       "version_major": 2,
       "version_minor": 0
      },
      "text/plain": [
       "  0%|          | 0/7 [00:00<?, ?it/s, RUN 0]"
      ]
     },
     "metadata": {},
     "output_type": "display_data"
    },
    {
     "data": {
      "application/vnd.jupyter.widget-view+json": {
       "model_id": "596a32ee666340fd9395e11971b3893b",
       "version_major": 2,
       "version_minor": 0
      },
      "text/plain": [
       "  0%|          | 0/5 [00:00<?, ?it/s, RUN 317080]"
      ]
     },
     "metadata": {},
     "output_type": "display_data"
    },
    {
     "data": {
      "application/vnd.jupyter.widget-view+json": {
       "model_id": "44333a3b8d394901913c0720b2477d62",
       "version_major": 2,
       "version_minor": 0
      },
      "text/plain": [
       "  0%|          | 0/5 [00:00<?, ?it/s, RUN 317080]"
      ]
     },
     "metadata": {},
     "output_type": "display_data"
    },
    {
     "data": {
      "application/vnd.jupyter.widget-view+json": {
       "model_id": "34a09a6c65434210af474a07cb6f9f0c",
       "version_major": 2,
       "version_minor": 0
      },
      "text/plain": [
       "  0%|          | 0/3 [00:00<?, ?it/s, RUN 0]"
      ]
     },
     "metadata": {},
     "output_type": "display_data"
    },
    {
     "data": {
      "application/vnd.jupyter.widget-view+json": {
       "model_id": "deb2a50437114f22855fbd69bc6a7fc5",
       "version_major": 2,
       "version_minor": 0
      },
      "text/plain": [
       "  0%|          | 0/1 [00:00<?, ?it/s, RUN 317080]"
      ]
     },
     "metadata": {},
     "output_type": "display_data"
    },
    {
     "data": {
      "application/vnd.jupyter.widget-view+json": {
       "model_id": "9721d21cc4fc40268d46665917c9d7ec",
       "version_major": 2,
       "version_minor": 0
      },
      "text/plain": [
       "  0%|          | 0/1 [00:00<?, ?it/s, RUN 317080]"
      ]
     },
     "metadata": {},
     "output_type": "display_data"
    },
    {
     "data": {
      "application/vnd.jupyter.widget-view+json": {
       "model_id": "863eaad246d741a5a859a9f71891936d",
       "version_major": 2,
       "version_minor": 0
      },
      "text/plain": [
       "  0%|          | 0/3 [00:00<?, ?it/s, RUN 0]"
      ]
     },
     "metadata": {},
     "output_type": "display_data"
    },
    {
     "name": "stdout",
     "output_type": "stream",
     "text": [
      "In order to reference traces by row and column, you must first use plotly.tools.make_subplots to create the figure with a subplot grid.\n"
     ]
    },
    {
     "data": {
      "application/vnd.jupyter.widget-view+json": {
       "model_id": "717a3fff7f344b8097520b76731b17ca",
       "version_major": 2,
       "version_minor": 0
      },
      "text/plain": [
       "  0%|          | 0/92 [00:00<?, ?it/s, SIMULATION]"
      ]
     },
     "metadata": {},
     "output_type": "display_data"
    },
    {
     "name": "stdout",
     "output_type": "stream",
     "text": [
      "is going to run over 1 runs\n",
      "Number of Lumi Bins = 1\n"
     ]
    },
    {
     "data": {
      "application/vnd.jupyter.widget-view+json": {
       "model_id": "c0e37425bd1c4770affd0b093e8fbee6",
       "version_major": 2,
       "version_minor": 0
      },
      "text/plain": [
       "  0%|          | 0/7 [00:00<?, ?it/s, RUN 0]"
      ]
     },
     "metadata": {},
     "output_type": "display_data"
    },
    {
     "data": {
      "application/vnd.jupyter.widget-view+json": {
       "model_id": "c7e52f7a20c34e1a83369323e99ecc81",
       "version_major": 2,
       "version_minor": 0
      },
      "text/plain": [
       "  0%|          | 0/5 [00:00<?, ?it/s, RUN 317080]"
      ]
     },
     "metadata": {},
     "output_type": "display_data"
    },
    {
     "data": {
      "application/vnd.jupyter.widget-view+json": {
       "model_id": "bc9d6f3a23214bcf92764a99abea3ece",
       "version_major": 2,
       "version_minor": 0
      },
      "text/plain": [
       "  0%|          | 0/5 [00:00<?, ?it/s, RUN 317080]"
      ]
     },
     "metadata": {},
     "output_type": "display_data"
    },
    {
     "data": {
      "application/vnd.jupyter.widget-view+json": {
       "model_id": "93ab5ac566d34707b5fe1d5bc8c2fb91",
       "version_major": 2,
       "version_minor": 0
      },
      "text/plain": [
       "  0%|          | 0/3 [00:00<?, ?it/s, RUN 0]"
      ]
     },
     "metadata": {},
     "output_type": "display_data"
    },
    {
     "data": {
      "application/vnd.jupyter.widget-view+json": {
       "model_id": "61204588a0604669b9ecc467e5a42b3b",
       "version_major": 2,
       "version_minor": 0
      },
      "text/plain": [
       "  0%|          | 0/1 [00:00<?, ?it/s, RUN 317080]"
      ]
     },
     "metadata": {},
     "output_type": "display_data"
    },
    {
     "data": {
      "application/vnd.jupyter.widget-view+json": {
       "model_id": "d73b80c7ac6c4bbd90d0787e58b1af75",
       "version_major": 2,
       "version_minor": 0
      },
      "text/plain": [
       "  0%|          | 0/1 [00:00<?, ?it/s, RUN 317080]"
      ]
     },
     "metadata": {},
     "output_type": "display_data"
    },
    {
     "data": {
      "application/vnd.jupyter.widget-view+json": {
       "model_id": "9d78d9f123304b6f881eacf2a70bfc2d",
       "version_major": 2,
       "version_minor": 0
      },
      "text/plain": [
       "  0%|          | 0/3 [00:00<?, ?it/s, RUN 0]"
      ]
     },
     "metadata": {},
     "output_type": "display_data"
    },
    {
     "name": "stdout",
     "output_type": "stream",
     "text": [
      "In order to reference traces by row and column, you must first use plotly.tools.make_subplots to create the figure with a subplot grid.\n"
     ]
    },
    {
     "data": {
      "application/vnd.jupyter.widget-view+json": {
       "model_id": "fe70e6228023491f84b7ed1f27ab4e5b",
       "version_major": 2,
       "version_minor": 0
      },
      "text/plain": [
       "  0%|          | 0/92 [00:00<?, ?it/s, SIMULATION]"
      ]
     },
     "metadata": {},
     "output_type": "display_data"
    },
    {
     "name": "stdout",
     "output_type": "stream",
     "text": [
      "is going to run over 1 runs\n",
      "Number of Lumi Bins = 1\n"
     ]
    },
    {
     "data": {
      "application/vnd.jupyter.widget-view+json": {
       "model_id": "3cbb9a1b707b46fe81f6940f0ba39dcd",
       "version_major": 2,
       "version_minor": 0
      },
      "text/plain": [
       "  0%|          | 0/7 [00:00<?, ?it/s, RUN 0]"
      ]
     },
     "metadata": {},
     "output_type": "display_data"
    },
    {
     "data": {
      "application/vnd.jupyter.widget-view+json": {
       "model_id": "a7eeb3fb59e64e469e24688532d219ae",
       "version_major": 2,
       "version_minor": 0
      },
      "text/plain": [
       "  0%|          | 0/5 [00:00<?, ?it/s, RUN 317080]"
      ]
     },
     "metadata": {},
     "output_type": "display_data"
    },
    {
     "data": {
      "application/vnd.jupyter.widget-view+json": {
       "model_id": "fe42e450d6be41b58d38967cb51b61f4",
       "version_major": 2,
       "version_minor": 0
      },
      "text/plain": [
       "  0%|          | 0/5 [00:00<?, ?it/s, RUN 317080]"
      ]
     },
     "metadata": {},
     "output_type": "display_data"
    },
    {
     "data": {
      "application/vnd.jupyter.widget-view+json": {
       "model_id": "b8e22e0262ec474f8d0fdb9bc870b788",
       "version_major": 2,
       "version_minor": 0
      },
      "text/plain": [
       "  0%|          | 0/3 [00:00<?, ?it/s, RUN 0]"
      ]
     },
     "metadata": {},
     "output_type": "display_data"
    },
    {
     "data": {
      "application/vnd.jupyter.widget-view+json": {
       "model_id": "d3f170490a17478eb96d0a55fb010a4c",
       "version_major": 2,
       "version_minor": 0
      },
      "text/plain": [
       "  0%|          | 0/1 [00:00<?, ?it/s, RUN 317080]"
      ]
     },
     "metadata": {},
     "output_type": "display_data"
    },
    {
     "data": {
      "application/vnd.jupyter.widget-view+json": {
       "model_id": "669c3b2505bb4d448a4c05da7f50b684",
       "version_major": 2,
       "version_minor": 0
      },
      "text/plain": [
       "  0%|          | 0/1 [00:00<?, ?it/s, RUN 317080]"
      ]
     },
     "metadata": {},
     "output_type": "display_data"
    },
    {
     "data": {
      "application/vnd.jupyter.widget-view+json": {
       "model_id": "dd8752f1a7c04212af3a848d325b4a9f",
       "version_major": 2,
       "version_minor": 0
      },
      "text/plain": [
       "  0%|          | 0/3 [00:00<?, ?it/s, RUN 0]"
      ]
     },
     "metadata": {},
     "output_type": "display_data"
    },
    {
     "name": "stdout",
     "output_type": "stream",
     "text": [
      "In order to reference traces by row and column, you must first use plotly.tools.make_subplots to create the figure with a subplot grid.\n"
     ]
    },
    {
     "data": {
      "application/vnd.jupyter.widget-view+json": {
       "model_id": "5ba4e8248a9d48b5a39d5d9dba0f4c9f",
       "version_major": 2,
       "version_minor": 0
      },
      "text/plain": [
       "  0%|          | 0/92 [00:00<?, ?it/s, SIMULATION]"
      ]
     },
     "metadata": {},
     "output_type": "display_data"
    },
    {
     "name": "stdout",
     "output_type": "stream",
     "text": [
      "is going to run over 1 runs\n",
      "Number of Lumi Bins = 1\n"
     ]
    },
    {
     "data": {
      "application/vnd.jupyter.widget-view+json": {
       "model_id": "5b09cb60ce804d5a8fa453b11670b504",
       "version_major": 2,
       "version_minor": 0
      },
      "text/plain": [
       "  0%|          | 0/7 [00:00<?, ?it/s, RUN 0]"
      ]
     },
     "metadata": {},
     "output_type": "display_data"
    },
    {
     "data": {
      "application/vnd.jupyter.widget-view+json": {
       "model_id": "5e7c75364cf746e79e35f5e5ddc26f5c",
       "version_major": 2,
       "version_minor": 0
      },
      "text/plain": [
       "  0%|          | 0/5 [00:00<?, ?it/s, RUN 317080]"
      ]
     },
     "metadata": {},
     "output_type": "display_data"
    },
    {
     "data": {
      "application/vnd.jupyter.widget-view+json": {
       "model_id": "7a8e0db7c0ac44e397c12d1ccb7a5c5a",
       "version_major": 2,
       "version_minor": 0
      },
      "text/plain": [
       "  0%|          | 0/5 [00:00<?, ?it/s, RUN 317080]"
      ]
     },
     "metadata": {},
     "output_type": "display_data"
    },
    {
     "data": {
      "application/vnd.jupyter.widget-view+json": {
       "model_id": "59bccba791a4499397997b3645a0efad",
       "version_major": 2,
       "version_minor": 0
      },
      "text/plain": [
       "  0%|          | 0/3 [00:00<?, ?it/s, RUN 0]"
      ]
     },
     "metadata": {},
     "output_type": "display_data"
    },
    {
     "data": {
      "application/vnd.jupyter.widget-view+json": {
       "model_id": "cf705530d9ea4797a479d49520b64ed8",
       "version_major": 2,
       "version_minor": 0
      },
      "text/plain": [
       "  0%|          | 0/1 [00:00<?, ?it/s, RUN 317080]"
      ]
     },
     "metadata": {},
     "output_type": "display_data"
    },
    {
     "data": {
      "application/vnd.jupyter.widget-view+json": {
       "model_id": "cd81bda4131f42219964f194a298fbd1",
       "version_major": 2,
       "version_minor": 0
      },
      "text/plain": [
       "  0%|          | 0/1 [00:00<?, ?it/s, RUN 317080]"
      ]
     },
     "metadata": {},
     "output_type": "display_data"
    },
    {
     "data": {
      "application/vnd.jupyter.widget-view+json": {
       "model_id": "dc645452c7c645b8bb507e798dfa86fe",
       "version_major": 2,
       "version_minor": 0
      },
      "text/plain": [
       "  0%|          | 0/3 [00:00<?, ?it/s, RUN 0]"
      ]
     },
     "metadata": {},
     "output_type": "display_data"
    },
    {
     "name": "stdout",
     "output_type": "stream",
     "text": [
      "In order to reference traces by row and column, you must first use plotly.tools.make_subplots to create the figure with a subplot grid.\n"
     ]
    },
    {
     "data": {
      "application/vnd.jupyter.widget-view+json": {
       "model_id": "508d97527f08467aac5299a323502839",
       "version_major": 2,
       "version_minor": 0
      },
      "text/plain": [
       "  0%|          | 0/92 [00:00<?, ?it/s, SIMULATION]"
      ]
     },
     "metadata": {},
     "output_type": "display_data"
    },
    {
     "name": "stdout",
     "output_type": "stream",
     "text": [
      "is going to run over 1 runs\n",
      "Number of Lumi Bins = 1\n"
     ]
    },
    {
     "data": {
      "application/vnd.jupyter.widget-view+json": {
       "model_id": "8eb5d9f9968d4534963ccebbb24cf1b7",
       "version_major": 2,
       "version_minor": 0
      },
      "text/plain": [
       "  0%|          | 0/7 [00:00<?, ?it/s, RUN 0]"
      ]
     },
     "metadata": {},
     "output_type": "display_data"
    },
    {
     "data": {
      "application/vnd.jupyter.widget-view+json": {
       "model_id": "aeb47dae72e54bc98f866a3676356e45",
       "version_major": 2,
       "version_minor": 0
      },
      "text/plain": [
       "  0%|          | 0/5 [00:00<?, ?it/s, RUN 317080]"
      ]
     },
     "metadata": {},
     "output_type": "display_data"
    }
   ],
   "source": [
    "variables = { \n",
    "              \"nVertices\" : ( \"nVertices\" , 90 , 0 , 90 ) ,\n",
    "              \"nGoodVertices\" : (\"nGoodVertices\", 80, 0 , 80) ,\n",
    "              \"nEles\" : (\"nEles\" , 10 , 0 , 10 ) ,\n",
    "              \"nMus\" : (\"nMus\" , 10 , 0 , 10 ),\n",
    "              \"nChargedHadrons\" : (\"nChargedHadrons\" , 120 , 0 , 1200 ),\n",
    "              \"nLostTracks\": (\"nLostTracks\" , 35 , 0 , 35 ),\n",
    "              \"nPhotons\" : (\"nPhotons\" , 120 , 0 , 600 ),\n",
    "              \"nNeutralHadrons\" : (\"nNeutralHadrons\" , 60 , 0 , 120 ),\n",
    "              \"fixedGridRhoAll\" : (\"fixedGridRhoAll\" , 40 , 0 , 40 ),\n",
    "              \"fixedGridRhoFastjetAll\" : (\"fixedGridRhoFastjetAll\" , 40 , 0 , 40 ),\n",
    "              \"fixedGridRhoFastjetAllCalo\" : (\"fixedGridRhoFastjetAllCalo\" , 25 , 0 , 25 ),\n",
    "              \"fixedGridRhoFastjetCentral\" : (\"fixedGridRhoFastjetCentral\" , 50 , 0 , 50 ),\n",
    "              \"fixedGridRhoFastjetCentralCalo\" : (\"fixedGridRhoFastjetCentralCalo\" , 20 , 0 , 20 ),\n",
    "              \"fixedGridRhoFastjetCentralChargedPileUp\" : (\"fixedGridRhoFastjetCentralChargedPileUp\" , 35 , 0 , 35 ),\n",
    "              \"fixedGridRhoFastjetCentralNeutral\" : (\"fixedGridRhoFastjetCentralNeutral\" , 12 , 0 , 12 )\n",
    "            }\n",
    "\n",
    "vvv = {}\n",
    "year , era = 2018 , 'B'\n",
    "for v,vinfo in variables.items():\n",
    "     head , vvv[v]  = process_and_publish(year , era , vinfo[0] , vinfo[2] , vinfo[3] , vinfo[1] , 90  )\n",
    "        "
   ]
  },
  {
   "cell_type": "markdown",
   "id": "3f94397c",
   "metadata": {},
   "source": [
    "## name of this Experiment: uses in naming folders"
   ]
  },
  {
   "cell_type": "code",
   "execution_count": null,
   "id": "9b9993e9",
   "metadata": {},
   "outputs": [],
   "source": [
    "head"
   ]
  },
  {
   "cell_type": "markdown",
   "id": "c5f46f6f",
   "metadata": {},
   "source": [
    "## making directories for overviewPlots both in source and publish directories"
   ]
  },
  {
   "cell_type": "code",
   "execution_count": null,
   "id": "e1e7bdd0",
   "metadata": {},
   "outputs": [],
   "source": [
    "# overview for publishL\n",
    "import os\n",
    "\n",
    "directory = \"{0}/overview\".format(head)\n",
    "  \n",
    "# Parent Directory path\n",
    "parent_dir = web2\n",
    "  \n",
    "# Path\n",
    "path = os.path.join(parent_dir, directory)\n",
    "  \n",
    "\n",
    "try:\n",
    "    os.makedirs(path)\n",
    "except OSError as error:\n",
    "    print(error)"
   ]
  },
  {
   "cell_type": "code",
   "execution_count": null,
   "id": "d5f7456e",
   "metadata": {},
   "outputs": [],
   "source": [
    "#overviewPlots for source\n",
    "import os\n",
    "\n",
    "directory1 = 'overviewPlots/{0}'.format(head)\n",
    "  \n",
    "# Parent Directory path\n",
    "parent_dir1 = web1\n",
    "  \n",
    "# Path\n",
    "path = os.path.join(parent_dir1, directory1)\n",
    "  \n",
    "\n",
    "try:\n",
    "    os.makedirs(path)\n",
    "except OSError as error:\n",
    "    print(error)"
   ]
  },
  {
   "cell_type": "markdown",
   "id": "70fd02da",
   "metadata": {},
   "source": [
    "## Luminosity and PileUp dists:"
   ]
  },
  {
   "cell_type": "code",
   "execution_count": null,
   "id": "93820e89",
   "metadata": {},
   "outputs": [],
   "source": [
    "def export_Graph(g , n , pdir):\n",
    "    ghtml = g.to_html()\n",
    "    Path('{0}/'.format(pdir ) )\n",
    "    with open('{0}/{1}.html'.format(pdir , n) , 'w') as f:\n",
    "        f.write(ghtml)"
   ]
  },
  {
   "cell_type": "code",
   "execution_count": null,
   "id": "16385743",
   "metadata": {},
   "outputs": [],
   "source": [
    "G = vvv['nVertices'].lumi_distribution.plot()\n",
    "export_Graph(G , 'LumiDist', '{0}/{1}/'.format(parent_dir,directory))\n",
    "G\n"
   ]
  },
  {
   "cell_type": "code",
   "execution_count": null,
   "id": "5830602b",
   "metadata": {},
   "outputs": [],
   "source": [
    "G = vvv['nVertices'].plot_lumi_distribution()\n",
    "export_Graph(G , 'LumiDistMain', '{0}/{1}/'.format(parent_dir,directory))\n",
    "G\n"
   ]
  },
  {
   "cell_type": "code",
   "execution_count": null,
   "id": "18bb5b4b",
   "metadata": {},
   "outputs": [],
   "source": [
    "xsec = 70\n",
    "G = vvv['nVertices'].plotPUDists(xsec)\n",
    "# vvv['nVertices'].plotDataDist()\n",
    "\n",
    "export_Graph(G , 'PUDist({0})'.format(xsec) , '{0}/{1}/'.format(parent_dir,directory))\n",
    "# export_Graph(G , 'PUDist({0})'.format(xsec) , '{0}/{1}/'.format(parent_dir1,directory1))\n",
    "\n",
    "G"
   ]
  },
  {
   "cell_type": "markdown",
   "id": "604db490",
   "metadata": {},
   "source": [
    "## Creating overview plot for all lumi bins:"
   ]
  },
  {
   "cell_type": "code",
   "execution_count": null,
   "id": "c92a5913",
   "metadata": {},
   "outputs": [],
   "source": [
    "#total plots export\n",
    "\n",
    "import numpy as np\n",
    "import matplotlib.pyplot as plt\n",
    "import plotly.express as px\n",
    "\n",
    "\n",
    "XsecBestTot = {}\n",
    "keys = []\n",
    "values = []\n",
    "nVar = len(variables.keys())\n",
    "print(nVar)\n",
    "for key in vvv:\n",
    "    for i in range(vvv[key].nLumiBins):\n",
    "#         print(i)\n",
    "        if i == 20 - 1:\n",
    "            print(i)\n",
    "print(vvv[key].nLumiBins)\n",
    "for i in range(vvv[key].nLumiBins):\n",
    "    for key in vvv:\n",
    "#         keys.append('{0} for lumi bin = {1} '.format(vvv[key].vname , i+1))\n",
    "        keys.append(vvv[key].vname)\n",
    "        values.append(vvv[key].fitResults[i].bestFit)\n",
    "#     print('values for bin = {0} is: {1}'.format(i+1 , values))\n",
    "#     print('------------------------------------')\n",
    "#     print('variables for bin = {0} is: {1}'.format(i+1 , keys))\n",
    "#     print('------------------------------------')\n",
    "    XsecBest= {}\n",
    "    for q in range(len(keys)):\n",
    "        XsecBest[keys[q]] = values[q]\n",
    "    \n",
    "#     print('Dict for bin = {0} is: {1}'.format(i+1 , XsecBest))\n",
    "#     print('------------------------------------')\n",
    "\n",
    "\n",
    "\n",
    "\n",
    "    names = list(XsecBest.keys())\n",
    "    values = list(XsecBest.values())\n",
    "\n",
    "\n",
    "    #         print('best fit for var = {0} in lumi bin = {1} is : {2} '.format(vvv[key].vname , i+1 , vvv[key].fitResults[i].bestFit))\n",
    "\n",
    "    plt.plot(names , values ,'o-' , label='lumi bin = {0}'.format(i+1))\n",
    "    plt.xticks(rotation=290)\n",
    "\n",
    "    plt.xlabel(\"Variable\")\n",
    "    plt.ylabel(\"Xsection\")\n",
    "    plt.title(\"Best Xsection for different variables for different lumi bins for MCTune = 5\")\n",
    "\n",
    "    y_est = 69.2 #cross section\n",
    "    y_err = 69.2*.046 #cross section error\n",
    "\n",
    "    plt.plot(y_est, '-')\n",
    "    plt.fill_between(names, y_est - y_err, y_est + y_err, alpha=0.2 , label = u'69.2 \\u00B1 4.6%' )\n",
    "\n",
    "    plt.legend(loc='center left', bbox_to_anchor=(1.2, 0.5))\n",
    "#     plt.show()\n",
    "    plt.savefig('{0}/{1}/totallumi.png'.format(parent_dir,directory) , dpi=300, bbox_inches='tight')   # save the figure to file\n",
    "    plt.savefig('{0}/{1}/totallumi.png'.format(parent_dir1,directory1) , dpi=300, bbox_inches='tight')   # save the figure to file\n",
    "\n",
    "    #     plt.close(fig)\n",
    "    \n",
    "#     fig.write_html('/plot for lumi =1')\n",
    "\n",
    "#     plt.savefig('XSection Best fit for lumi = {0}.png'.format(i+1))\n",
    "    keys = []\n",
    "    values = []\n",
    "# print(keys)\n",
    "# print(values)\n",
    "#     print(values)\n",
    "for i in range(len(keys)):\n",
    "    XsecBestTot[keys[i]] = values[i]\n",
    "\n",
    "# print(XsecBestTot)\n"
   ]
  },
  {
   "cell_type": "markdown",
   "id": "07f1b85c",
   "metadata": {},
   "source": [
    "## Creating overview plot for each lumi bins:"
   ]
  },
  {
   "cell_type": "code",
   "execution_count": null,
   "id": "a0f82962",
   "metadata": {},
   "outputs": [],
   "source": [
    "#plot for each lumi bin\n",
    "\n",
    "import numpy as np\n",
    "import matplotlib.pyplot as plt\n",
    "import plotly.express as px\n",
    "\n",
    "\n",
    "XsecBestTot = {}\n",
    "keys = []\n",
    "values = []\n",
    "nVar = len(variables.keys())\n",
    "print(nVar)\n",
    "\n",
    "for i in range(vvv[key].nLumiBins):\n",
    "    for key in vvv:\n",
    "#         keys.append('{0} for lumi bin = {1} '.format(vvv[key].vname , i+1))\n",
    "        keys.append(vvv[key].vname)\n",
    "        values.append(vvv[key].fitResults[i].bestFit)\n",
    "#     print('values for bin = {0} is: {1}'.format(i+1 , values))\n",
    "#     print('------------------------------------')\n",
    "#     print('variables for bin = {0} is: {1}'.format(i+1 , keys))\n",
    "#     print('------------------------------------')\n",
    "    XsecBest= {}\n",
    "    for q in range(len(keys)):\n",
    "        XsecBest[keys[q]] = values[q]\n",
    "    \n",
    "#     print('Dict for bin = {0} is: {1}'.format(i+1 , XsecBest))\n",
    "#     print('------------------------------------')\n",
    "\n",
    "\n",
    "\n",
    "\n",
    "    names = list(XsecBest.keys())\n",
    "    values = list(XsecBest.values())\n",
    "\n",
    "\n",
    "    #         print('best fit for var = {0} in lumi bin = {1} is : {2} '.format(vvv[key].vname , i+1 , vvv[key].fitResults[i].bestFit))\n",
    "\n",
    "    plt.plot(names , values ,'o-' , color='tab:brown' , label='lumi bin = {0}'.format(i+1))\n",
    "    plt.xticks(rotation=290)\n",
    "\n",
    "    plt.xlabel(\"Variable\")\n",
    "    plt.ylabel(\"Xsection\")\n",
    "    plt.title(\"Best Xsection for different variables for lumi bin = {0} (MCTune = 5)\".format(i+1))\n",
    "\n",
    "    y_est = 69.2 #cross section\n",
    "    y_err = 69.2*.046 #cross section error\n",
    "\n",
    "    plt.plot(y_est, '-')\n",
    "    plt.fill_between(names, y_est - y_err, y_est + y_err, alpha=0.2 , label = u'69.2 \\u00B1 4.6%' )\n",
    "\n",
    "    plt.legend()\n",
    "#     plt.savefig('{0}/{1}/plot_for_lumi_{2}.png'.format(parent_dir,directory,i+1) , dpi=300, bbox_inches='tight')\n",
    "#     plt.savefig('{0}/{1}/plot_for_lumi_{2}.png'.format(parent_dir1,directory1,i+1) , dpi=300, bbox_inches='tight')   # save the figure to file\n",
    "\n",
    "    plt.show()\n",
    "\n",
    "    \n",
    "#     fig.write_html('/plot for lumi =1')\n",
    "\n",
    "#     plt.savefig('XSection Best fit for lumi = {0}.png'.format(i+1))\n",
    "    keys = []\n",
    "    values = []\n",
    "# print(keys)\n",
    "# print(values)\n",
    "#     print(values)\n",
    "for i in range(len(keys)):\n",
    "    XsecBestTot[keys[i]] = values[i]\n",
    "\n",
    "# print(XsecBestTot)\n"
   ]
  },
  {
   "cell_type": "code",
   "execution_count": null,
   "id": "844234bb",
   "metadata": {},
   "outputs": [],
   "source": [
    "#plot for each lumi bin\n",
    "\n",
    "import numpy as np\n",
    "import matplotlib.pyplot as plt\n",
    "import plotly.express as px\n",
    "\n",
    "\n",
    "XsecBestTot = {}\n",
    "keys = []\n",
    "values = []\n",
    "nVar = len(variables.keys())\n",
    "print(nVar)\n",
    "\n",
    "for i in range(vvv[key].nLumiBins):\n",
    "    for key in vvv:\n",
    "#         keys.append('{0} for lumi bin = {1} '.format(vvv[key].vname , i+1))\n",
    "        keys.append(vvv[key].vname)\n",
    "        values.append(vvv[key].fitResults[i].bestFit)\n",
    "#     print('values for bin = {0} is: {1}'.format(i+1 , values))\n",
    "#     print('------------------------------------')\n",
    "#     print('variables for bin = {0} is: {1}'.format(i+1 , keys))\n",
    "#     print('------------------------------------')\n",
    "    XsecBest= {}\n",
    "    for q in range(len(keys)):\n",
    "        XsecBest[keys[q]] = values[q]\n",
    "    \n",
    "#     print('Dict for bin = {0} is: {1}'.format(i+1 , XsecBest))\n",
    "#     print('------------------------------------')\n",
    "\n",
    "\n",
    "\n",
    "\n",
    "    names = list(XsecBest.keys())\n",
    "    values = list(XsecBest.values())\n",
    "\n",
    "\n",
    "    #         print('best fit for var = {0} in lumi bin = {1} is : {2} '.format(vvv[key].vname , i+1 , vvv[key].fitResults[i].bestFit))\n",
    "\n",
    "    plt.plot(names , values ,'o-' , color='tab:brown' , label='lumi bin = {0}'.format(i+1))\n",
    "    plt.xticks(rotation=290)\n",
    "\n",
    "    plt.xlabel(\"Variable\")\n",
    "    plt.ylabel(\"Xsection\")\n",
    "    plt.title(\"Best Xsection for different variables for lumi bin = {0} (MCTune = 5)\".format(i+1))\n",
    "\n",
    "\n",
    "\n",
    "    plt.legend()\n",
    "#     plt.savefig('/eos/user/c/cmstandi/www/PU/newres/data2/5/plot for lumi = {}.png'.format(i+1) , dpi=300, bbox_inches='tight')\n",
    "    plt.show()\n",
    "\n",
    "    \n",
    "#     fig.write_html('/plot for lumi =1')\n",
    "\n",
    "#     plt.savefig('XSection Best fit for lumi = {0}.png'.format(i+1))\n",
    "    keys = []\n",
    "    values = []\n"
   ]
  },
  {
   "cell_type": "markdown",
   "id": "cf26700d",
   "metadata": {},
   "source": [
    "## some features of the code:"
   ]
  },
  {
   "cell_type": "code",
   "execution_count": null,
   "id": "d1005e2a",
   "metadata": {},
   "outputs": [],
   "source": [
    "for key in vvv:\n",
    "    for i in range(vvv[key].nLumiBins):\n",
    "        print('best fit for var: {0} in lumi bin = {1} is : {2} '.format(vvv[key].vname , i+1 , vvv[key].fitResults[i].bestFit))"
   ]
  },
  {
   "cell_type": "code",
   "execution_count": null,
   "id": "9e5ae272",
   "metadata": {},
   "outputs": [],
   "source": [
    "vvv['nVertices'].subRunNumbers\n"
   ]
  },
  {
   "cell_type": "code",
   "execution_count": null,
   "id": "5660383b",
   "metadata": {},
   "outputs": [],
   "source": [
    "for i in  vvv['nVertices']._subRuns:\n",
    "    x = i.run\n",
    "    print(x)\n",
    "print(len(vvv['nVertices']._subRuns))"
   ]
  },
  {
   "cell_type": "code",
   "execution_count": null,
   "id": "0547984e",
   "metadata": {},
   "outputs": [],
   "source": [
    "x = vvv['nVertices'].subRunNumbers\n",
    "print(x)"
   ]
  },
  {
   "cell_type": "code",
   "execution_count": null,
   "id": "8f3e8618",
   "metadata": {},
   "outputs": [],
   "source": [
    "\n",
    "for key in vvv:\n",
    "    for i in range(vvv[key].nLumiBins):\n",
    "        print('best fit for var = {0} in lumi bin = {1} is : {2} '.format(vvv[key].vname , i+1 , vvv[key].fitResults[i].bestFit))"
   ]
  },
  {
   "cell_type": "code",
   "execution_count": null,
   "id": "1da1c96e",
   "metadata": {},
   "outputs": [],
   "source": [
    "for key in vvv:\n",
    "    for i in range(vvv[key].nLumiBins):\n",
    "        if i == 3 - 1:\n",
    "            print('best fit for var = {0} in lumi bin = {1} is : {2} '.format(vvv[key].vname , i+1 , vvv[key].fitResults[i].bestFit))"
   ]
  },
  {
   "cell_type": "code",
   "execution_count": null,
   "id": "93e9254b",
   "metadata": {},
   "outputs": [],
   "source": [
    "import numpy as np\n",
    "import matplotlib.pyplot as plt\n",
    "\n",
    "\n",
    "XsecBest = {}\n",
    "keys = []\n",
    "values = []\n",
    "nVar = len(variables.keys())\n",
    "print(nVar)\n",
    "\n",
    "for i in range(vvv[key].nLumiBins):\n",
    "    for key in vvv:\n",
    "        keys.append(vvv[key].vname)\n",
    "        values.append(vvv[key].fitResults[i].bestFit)\n",
    "\n",
    "        \n",
    "        \n",
    "        \n",
    "print(keys)\n",
    "print(values)"
   ]
  },
  {
   "cell_type": "code",
   "execution_count": null,
   "id": "0235b922",
   "metadata": {},
   "outputs": [],
   "source": [
    "for i in range (vvv['nVertices'].nLumiBins):\n",
    "    print(vvv['nVertices'].data_hists[i].integral())"
   ]
  },
  {
   "cell_type": "code",
   "execution_count": null,
   "id": "abb1b62b",
   "metadata": {},
   "outputs": [],
   "source": [
    "vvv['nVertices'].predictions"
   ]
  },
  {
   "cell_type": "code",
   "execution_count": null,
   "id": "37ae0ba0",
   "metadata": {},
   "outputs": [],
   "source": [
    "vvv['nVertices'].plotPredictions([45])"
   ]
  },
  {
   "cell_type": "code",
   "execution_count": null,
   "id": "e47f3a7a",
   "metadata": {},
   "outputs": [],
   "source": [
    "vvv['nVertices'].predictions[0].plot()"
   ]
  },
  {
   "cell_type": "code",
   "execution_count": null,
   "id": "b741be10",
   "metadata": {},
   "outputs": [],
   "source": [
    " vvv['nVertices'].predictions[0].plot(param=vvv['nVertices'].fitResults[0].bestFit ,\n",
    "                                    norm=vvv['nVertices'].data_hists[0].integral()\n",
    "                                    )"
   ]
  },
  {
   "cell_type": "code",
   "execution_count": null,
   "id": "87c0419e",
   "metadata": {},
   "outputs": [],
   "source": [
    "vvv['nVertices'].predictions[0].plot(norm=vvv['nVertices'].data_hists[0].integral() ,param=vvv['nVertices'].fitResults[0].bestFit)\n"
   ]
  },
  {
   "cell_type": "code",
   "execution_count": null,
   "id": "33f677ad",
   "metadata": {},
   "outputs": [],
   "source": [
    "\n",
    "prelist = vvv['nVertices'].predictions[0].allProbs()\n",
    "print(prelist)\n",
    "print(sum(prelist))"
   ]
  },
  {
   "cell_type": "code",
   "execution_count": null,
   "id": "dda71660",
   "metadata": {},
   "outputs": [],
   "source": [
    "vvv['nVertices'].data_hists[0].plot()\n"
   ]
  },
  {
   "cell_type": "code",
   "execution_count": null,
   "id": "3dc8b1cd",
   "metadata": {},
   "outputs": [],
   "source": [
    "datalist =(vvv['nVertices'].data_hists[0].allProbs())/(vvv['nVertices'].data_hists[0].integral())\n",
    "print(datalist)\n",
    "print(sum(datalist))"
   ]
  },
  {
   "cell_type": "code",
   "execution_count": null,
   "id": "1e8d9404",
   "metadata": {},
   "outputs": [],
   "source": [
    "n = 0\n",
    "for i in range(len(datalist)):\n",
    "#     print(datalist[i])\n",
    "#     print(prelist[i])\n",
    "# #     print('-------')\n",
    "    if datalist[i] == 0 :\n",
    "        pass\n",
    "    else: \n",
    "        m = datalist[i] - prelist[i]\n",
    "        k = m**2\n",
    "        j = k/datalist[i]\n",
    "#         print(j)\n",
    "        n += j\n",
    "#         print(n)\n",
    "        m = 0\n",
    "#         print('-----------')\n",
    "print(n/len(datalist))"
   ]
  },
  {
   "cell_type": "code",
   "execution_count": null,
   "id": "b3846e7f",
   "metadata": {},
   "outputs": [],
   "source": [
    "import math \n",
    "n = 0\n",
    "for i in range(len(datalist)):\n",
    "#     print(datalist[i])\n",
    "#     print(prelist[i])\n",
    "# #     print('-------')\n",
    "    if datalist[i] == 0 :\n",
    "        pass\n",
    "    else: \n",
    "        m = prelist[i] - datalist[i]\n",
    "#         j = m/math.sqrt(datalist[i])\n",
    "        j = m/math.sqrt(datalist[i])\n",
    "        n += j\n",
    "        m = 0\n",
    "print(n)"
   ]
  },
  {
   "cell_type": "code",
   "execution_count": null,
   "id": "9feb25a6",
   "metadata": {},
   "outputs": [],
   "source": [
    " vvv['nVertices']._subRunsSameLumiBins[0].fitResults"
   ]
  },
  {
   "cell_type": "code",
   "execution_count": null,
   "id": "c8c3b112",
   "metadata": {},
   "outputs": [],
   "source": [
    "vvv['nVertices'].fitResults[0].plot()"
   ]
  },
  {
   "cell_type": "code",
   "execution_count": null,
   "id": "6d52a700",
   "metadata": {},
   "outputs": [],
   "source": [
    "vvv['nVertices'].predictions[0].plot()"
   ]
  },
  {
   "cell_type": "code",
   "execution_count": null,
   "id": "0996ee8b",
   "metadata": {},
   "outputs": [],
   "source": [
    "vvv['nVertices'].data_hists[0].plot()"
   ]
  },
  {
   "cell_type": "code",
   "execution_count": null,
   "id": "7ea4f01f",
   "metadata": {},
   "outputs": [],
   "source": [
    "print(vvv['nVertices'].nLumiBins)"
   ]
  },
  {
   "cell_type": "code",
   "execution_count": null,
   "id": "91ebe59a",
   "metadata": {},
   "outputs": [],
   "source": [
    "vvv['nVertices'].fitResults"
   ]
  },
  {
   "cell_type": "code",
   "execution_count": null,
   "id": "7fbde913",
   "metadata": {},
   "outputs": [],
   "source": [
    "simDist = SimulationVSPu('nPhotons' , year = 2018 , var_bins= np.linspace(0,100,101) , pu_max=100 , nthreads=30)"
   ]
  },
  {
   "cell_type": "code",
   "execution_count": null,
   "id": "fe24cfc6",
   "metadata": {},
   "outputs": [],
   "source": [
    "aa = simDist.plotEfficiencies()\n",
    "aa.plot()"
   ]
  },
  {
   "cell_type": "code",
   "execution_count": null,
   "id": "f386dc04",
   "metadata": {},
   "outputs": [],
   "source": [
    "for key in variables.keys():\n",
    "    print('vName: {0}'.format(key))"
   ]
  },
  {
   "cell_type": "code",
   "execution_count": null,
   "id": "64d65ba1",
   "metadata": {},
   "outputs": [],
   "source": [
    "MC = SimulationVSPu.mctune\n",
    "print(MC)"
   ]
  },
  {
   "cell_type": "code",
   "execution_count": null,
   "id": "d8206a2a",
   "metadata": {},
   "outputs": [],
   "source": [
    "# گرفتن انتگرال pu dist\n",
    "\n",
    "# bina = binning(1 , 2 , 1.5 )\n",
    "# binb = binning(2 , 3 , 2.5)\n",
    "# binc = binning(3, 4 , 3.5)\n",
    "# lumidist = lumiDistNumpy('testlumi' , {bina: 0.33 , binb: 0.33 , binc: 0.33 #lumi bin prob\n",
    "#                                       }, 50 , np.array([1,2,2.5] # pu max and cross section for each bin \n",
    "#                                                       ))\n",
    "# g = lumidist.PUDist.plot(param = 1)\n",
    "\n",
    "# lumidist.PUDist.plot(param = 2 , g=g )\n",
    "# lumidist.PUDist.plot(param = 3 , g=g )\n",
    "\n",
    "\n",
    "# g.update_layout(\n",
    "#         title=\"PU dist \",\n",
    "#         xaxis_title= 'PU',\n",
    "#         yaxis_title=\"probability\",\n",
    "#         legend_title=\"PU number\",\n",
    "#     )\n",
    "# g"
   ]
  },
  {
   "cell_type": "code",
   "execution_count": null,
   "id": "02f300d7",
   "metadata": {},
   "outputs": [],
   "source": [
    "# bina.representative"
   ]
  },
  {
   "cell_type": "code",
   "execution_count": null,
   "id": "c88edf7d",
   "metadata": {},
   "outputs": [],
   "source": [
    "# counter = 0\n",
    "# for b,v in lumidist.PUDist.vals:\n",
    "#     counter +=1\n",
    "#     print(b,v)\n",
    "# print(counter)"
   ]
  }
 ],
 "metadata": {
  "kernelspec": {
   "display_name": "Python 3",
   "language": "python",
   "name": "python3"
  },
  "language_info": {
   "codemirror_mode": {
    "name": "ipython",
    "version": 3
   },
   "file_extension": ".py",
   "mimetype": "text/x-python",
   "name": "python",
   "nbconvert_exporter": "python",
   "pygments_lexer": "ipython3",
   "version": "3.8.6"
  }
 },
 "nbformat": 4,
 "nbformat_minor": 5
}
