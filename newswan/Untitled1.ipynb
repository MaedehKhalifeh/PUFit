{
 "cells": [
  {
   "cell_type": "code",
   "execution_count": 1,
   "id": "cf06cb71",
   "metadata": {},
   "outputs": [
    {
     "name": "stdout",
     "output_type": "stream",
     "text": [
      "a: 105.96817707961647, b: 0.7044050077676671\n"
     ]
    }
   ],
   "source": [
    "import numpy as np\n",
    "from sklearn.linear_model import LinearRegression\n",
    "\n",
    "# Given data\n",
    "X = np.array([np.log10(55.67), np.log10(172.66), np.log10(11.87)])\n",
    "Y = np.array([np.log10(777) - np.log10(0.18), np.log10(1) - np.log10(0.25), np.log10(0.82) - np.log10(0.07)])\n",
    "\n",
    "# Reshape to 2D arrays\n",
    "X = X.reshape(-1, 1)\n",
    "Y = Y.reshape(-1, 1)\n",
    "\n",
    "# Create a linear regression model\n",
    "model = LinearRegression()\n",
    "\n",
    "# Fit the model\n",
    "model.fit(X, Y)\n",
    "\n",
    "# Get the coefficients\n",
    "C2 = model.coef_[0][0]\n",
    "C1 = model.intercept_[0]\n",
    "\n",
    "# Calculate a and b\n",
    "a = 10**C1\n",
    "b = 10**C2\n",
    "\n",
    "print(f'a: {a}, b: {b}')\n"
   ]
  },
  {
   "cell_type": "code",
   "execution_count": null,
   "id": "5aa970fb",
   "metadata": {},
   "outputs": [],
   "source": []
  }
 ],
 "metadata": {
  "kernelspec": {
   "display_name": "Python 3",
   "language": "python",
   "name": "python3"
  },
  "language_info": {
   "codemirror_mode": {
    "name": "ipython",
    "version": 3
   },
   "file_extension": ".py",
   "mimetype": "text/x-python",
   "name": "python",
   "nbconvert_exporter": "python",
   "pygments_lexer": "ipython3",
   "version": "3.9.12"
  }
 },
 "nbformat": 4,
 "nbformat_minor": 5
}
